{
 "cells": [
  {
   "cell_type": "markdown",
   "metadata": {},
   "source": [
    "# Dæmi 1 (4-6)\n",
    "\n",
    "\n",
    "Derive the expression for the phase paths of the plane pendulum if the total energy is $E \\gt 2mgl$.\n",
    "\n",
    "Note that this is just the case of a particle moving in a periodic potential $U(\\theta) = mgl (1- \\cos \\theta)$\n",
    "\n",
    "## Lausn\n",
    "\n",
    "Ákvörðum $\\dot{\\theta}$ út frá $E = T(\\dot{\\theta}) + U(\\theta)$:\n",
    "\n",
    "$$\n",
    "    E = \\frac{1}{2}mgl^2\\dot{\\theta}^2 + mgl(1-\\cos\\theta) \\qquad \\Rightarrow \\qquad \\boxed{ \\dot{\\theta} = \\pm  \\sqrt{\\frac{2g}{l}} \\sqrt{\\frac{E}{mgl} - (1-\\cos\\theta)}}\n",
    "$$"
   ]
  },
  {
   "cell_type": "code",
   "execution_count": 1,
   "metadata": {},
   "outputs": [],
   "source": [
    "import numpy as np\n",
    "import matplotlib.pyplot as plt\n",
    "from ipywidgets import interact"
   ]
  },
  {
   "cell_type": "code",
   "execution_count": 2,
   "metadata": {},
   "outputs": [
    {
     "data": {
      "application/vnd.jupyter.widget-view+json": {
       "model_id": "d8189110b68a40aa97b00fb504daeada",
       "version_major": 2,
       "version_minor": 0
      },
      "text/plain": [
       "interactive(children=(FloatSlider(value=1.0, description='E_mgl', max=4.0, step=0.05), FloatSlider(value=1.0, …"
      ]
     },
     "metadata": {},
     "output_type": "display_data"
    }
   ],
   "source": [
    "\n",
    "g = 9.8\n",
    "m = 1.0\n",
    "\n",
    "def phase_plane_pendulum(E,l,t):\n",
    "    return np.sqrt(2*g/l) * np.sqrt(E - (1 - np.cos(t)))\n",
    "\n",
    "@interact(E_mgl=(0.0,4.0,0.05),l=(1E-5,2.0+1E-5))\n",
    "def plot_plane_pendulum(E_mgl=1.0,l=1.0):\n",
    "    \n",
    "    if E_mgl <= 2.0:\n",
    "        theta = np.linspace(-np.arccos(1-E_mgl)+1E-9,np.arccos(1-E_mgl)-1E-9,800)\n",
    "    \n",
    "        \n",
    "        thetadot = phase_plane_pendulum(E_mgl,l,theta)\n",
    "\n",
    "        plt.plot(theta,thetadot,'g-')\n",
    "        plt.plot(theta,-thetadot,'g-')\n",
    "        plt.xlim(-np.pi,np.pi)\n",
    "        plt.ylim(-10.0,10.0)\n",
    "        \n",
    "    else:\n",
    "        theta = np.linspace(-np.pi,np.pi,200)\n",
    "        \n",
    "        thetadot = phase_plane_pendulum(E_mgl,l,theta)\n",
    "\n",
    "        plt.plot(theta,thetadot,'r-')\n",
    "        plt.plot(theta,-thetadot,'r-')\n",
    "        plt.xlim(-np.pi,np.pi)\n",
    "        plt.ylim(-10.0,10.0)\n",
    "        \n",
    "    plt.xlabel(r'$\\theta$ (rad)',fontsize=16)\n",
    "    plt.ylabel(r'$\\dot{\\theta}$ (rad/s)',fontsize=16)\n",
    "    plt.show()\n"
   ]
  },
  {
   "cell_type": "markdown",
   "metadata": {},
   "source": [
    "# Dæmi 2 (4-9)\n",
    "\n",
    "Investigate the motion of an undamped particle subject to a force of the form\n",
    "\n",
    "\n",
    "\\begin{equation}\n",
    "F(x) = \n",
    "\\begin{cases}\n",
    "& -kx, &\\vert x \\vert \\lt a \\\\\n",
    "& -(k + \\delta)x + \\delta a, &\\vert x \\vert \\gt a\n",
    "\\end{cases}\n",
    "\\end{equation}\n",
    "\n",
    "where $k$ and $\\delta$ are positive constants.\n",
    "\n",
    "## Lausn\n",
    "Ákvörðum mættið $U(x)$ með því að heilda $F(x) = - \\nabla U(x)$:\n",
    "\n",
    "$$\n",
    "U(x) =\n",
    "    \\begin{cases}\n",
    "      \\frac{kx^2}{2} & \\vert x \\vert \\lt a\\\\\n",
    "      \\frac{(k + \\delta)x^2}{2} - \\delta a x & \\vert x \\vert \\gt a\n",
    "    \\end{cases}    \n",
    "$$\n",
    "\n",
    "Eins og í dæminu á undan, fæst hraðinn með :\n",
    "\n",
    "$$\n",
    "    v = \\sqrt{\\frac{2}{m}} \\sqrt{E - U(x)} = \\sqrt{\\frac{ka^2}{m}} \\sqrt{\\frac{2E}{k^2} - }\n",
    "$$"
   ]
  },
  {
   "cell_type": "code",
   "execution_count": 10,
   "metadata": {},
   "outputs": [
    {
     "data": {
      "application/vnd.jupyter.widget-view+json": {
       "model_id": "1221ca4e7f3c439bab6cd0229a80b639",
       "version_major": 2,
       "version_minor": 0
      },
      "text/plain": [
       "interactive(children=(FloatSlider(value=1.0, description='E2_ka', max=4.0), FloatSlider(value=1.0, description…"
      ]
     },
     "metadata": {},
     "output_type": "display_data"
    }
   ],
   "source": [
    "#a = 1.0\n",
    "m = 1.0\n",
    "k = 1.0\n",
    "\n",
    "def undamped_particle_potential(d,x,a):\n",
    "    if x > a:\n",
    "        return (k+d)*x**2/2 - d*a*x\n",
    "    else:\n",
    "        return k*x**2/2\n",
    "\n",
    "def phase_undamped_particle(E,d,X,a):\n",
    "    U = undamped_particle_potential(d,X,a)\n",
    "    return np.sqrt(2/m) * np.sqrt(E - U)\n",
    "\n",
    "\n",
    "\n",
    "@interact(E2_ka=(0.0,4.0,0.1),delta=(0.0,2*k,0.1),a=(1.0,2.0,0.25))\n",
    "def plot_undamped_particle(E2_ka=1.0,delta=1.0,a=1.0):\n",
    "    \n",
    "    if E2_ka <= k*a**2/2:\n",
    "        xrange = np.linspace(-a+1E-9,a-1E-9,400)\n",
    "        v = phase_undamped_particle(E2_ka,delta,xrange)\n",
    "        \n",
    "\n",
    "        plt.plot(x,v,'g-')\n",
    "        plt.plot(x,-v,'g-')\n",
    "        #plt.xlim(-2.2,2.2)\n",
    "        #plt.ylim(-10.0,10.0)\n",
    "    else:\n",
    "        xrange = np.linspace(a+1E-9,a-1E-9,400)\n",
    "        \n",
    "        #plt.show()\n",
    "    #xrange\n",
    "    plt.show()"
   ]
  },
  {
   "cell_type": "markdown",
   "metadata": {},
   "source": [
    "# Dæmi 3 (4-3)\n",
    "\n",
    "## Lausn\n",
    "\n",
    "$$\n",
    "    v = \\sqrt{\\frac{2 \\lambda a^3}{3m}} \\sqrt{\\frac{3E}{\\lambda a^3} + \\left( \\frac{x}{a}\\right)^3}\n",
    "$$"
   ]
  },
  {
   "cell_type": "code",
   "execution_count": 11,
   "metadata": {},
   "outputs": [
    {
     "data": {
      "application/vnd.jupyter.widget-view+json": {
       "model_id": "9ea6ae6ae3ad4a9c9c5889335731cef1",
       "version_major": 2,
       "version_minor": 0
      },
      "text/plain": [
       "interactive(children=(FloatSlider(value=1.5, description='E', max=3.0, step=0.05), FloatSlider(value=1.0, desc…"
      ]
     },
     "metadata": {},
     "output_type": "display_data"
    }
   ],
   "source": [
    "@interact(E=(0.0,3.0,0.05),a=(0.0,2.0))\n",
    "def plot_cube(E,a):\n",
    "    x = np.linspace(-E**(1/3)+1.0E-6,5.0,200)\n",
    "    \n",
    "    if E\n",
    "    v = np.sqrt(E/a**3 + (x/a)**3)\n",
    "    \n",
    "    plt.plot(x,v,'b')\n",
    "    plt.plot(x,-v,'b')\n",
    "    plt.xlim(-2.5,5)\n",
    "    plt.ylim(-15.0,15.0)\n",
    "    \n",
    "    \n",
    "    plt.xlabel(r'$x$ (m)',fontsize=16)\n",
    "    plt.ylabel(r'$v$ (m/s)',fontsize=16)\n",
    "    plt.show()"
   ]
  },
  {
   "cell_type": "markdown",
   "metadata": {},
   "source": [
    "# Dæmi 4 (4-17)\n",
    "\n",
    "## Lausn\n",
    "\n",
    "$$\n",
    "    x_{n+1} = \n",
    "    \\begin{cases}\n",
    "      2 \\alpha x_n & 0 \\lt x  \\lt \\frac{1}{2}\\\\\n",
    "      2 \\alpha (1 - x_n) & \\frac{1}{2} \\lt x \\lt 1\n",
    "    \\end{cases}  \n",
    "$$"
   ]
  },
  {
   "cell_type": "code",
   "execution_count": 71,
   "metadata": {
    "scrolled": false
   },
   "outputs": [
    {
     "data": {
      "application/vnd.jupyter.widget-view+json": {
       "model_id": "f64b45b4a9174bb4b06938c771722133",
       "version_major": 2,
       "version_minor": 0
      },
      "text/plain": [
       "interactive(children=(FloatSlider(value=0.2, description='x0', max=0.99999999, min=1e-08, step=0.01), FloatSli…"
      ]
     },
     "metadata": {},
     "output_type": "display_data"
    },
    {
     "data": {
      "image/png": "[encoded data removed]",
      "text/plain": [
       "<matplotlib.figure.Figure at 0x2afbfebd20f0>"
      ]
     },
     "metadata": {},
     "output_type": "display_data"
    }
   ],
   "source": [
    "\n",
    "# Safnar N-stökum tjald-vörpunarinnar í vigurinn xvec\n",
    "def tent_map(x0,a,N):\n",
    "    \n",
    "    xvec = []\n",
    "    x = x0\n",
    "    for i in range(N):\n",
    "        xvec = np.append(xvec,x)\n",
    "        if x > 0.5:\n",
    "            x = 2*a*(1.0-x)\n",
    "        elif x < 0.5:\n",
    "            x = 2*a*x\n",
    "            \n",
    "    return xvec\n",
    "\n",
    "\n",
    "# Plot-fall\n",
    "@interact(x0=(1E-8,1.0-1E-8,0.01),alpha=(1E-8,1.0-1E-8,0.02),N=(5,180))\n",
    "def plot_tent(x0=0.2,alpha=0.7,N=2):\n",
    "    #n = range(0,N)\n",
    "    x_tent = tent_map(x0,alpha,N)\n",
    "    \n",
    "    plt.xlim(0,N)\n",
    "    plt.ylim(0.0,1.0)\n",
    "    \n",
    "    \n",
    "    plt.xlabel(r'$n$',fontsize=16)\n",
    "    plt.ylabel(r'$x_n$',fontsize=16)\n",
    "    plt.plot(x_tent, markersize=16)\n",
    "    plt.show()\n",
    "    \n",
    "\n",
    "# Plot fyrir sjálft dæmið í bókinni\n",
    "#plot_tent(0.2,0.7,100)\n",
    "#plot_tent(0.2,0.4,100)\n",
    "#plot_tent(0.2,1/np.sqrt(2),1000)\n",
    "\n",
    "plot_tent(0.00,1.00000001,100)"
   ]
  },
  {
   "cell_type": "markdown",
   "metadata": {},
   "source": [
    "# Dæmi 5 (4-4)\n",
    "\n",
    "## Lausn\n",
    "\n",
    "Framkvæmum diffrunina:\n",
    "\n",
    "$$\n",
    "    \\dddot{x} - 2b\\dot{x}\\ddot{x}\\dot{x} - (a-b\\dot{x}^2)\\ddot{x} + \\omega_0^2 \\dot{x} = 0 \\qquad \\Rightarrow \\qquad \\dddot{x} - (a -3b\\dot{x}^2)\\ddot{x} + \\omega_0^2 \\dot{x} = 0\n",
    "$$"
   ]
  },
  {
   "cell_type": "markdown",
   "metadata": {},
   "source": [
    "Nú er\n",
    "\n",
    "$$\n",
    "    \\dot{x}= \\frac{y}{y_0} \\sqrt{\\frac{a}{3b}} , \\qquad\\ddot{x} = \\frac{\\dot{y}}{y_0} \\sqrt{\\frac{a}{3b}}, \\qquad \\dddot{x} = \\frac{\\ddot{y}}{y_0} \\sqrt{\\frac{a}{3b}}\n",
    "$$\n",
    "\n",
    "Stingum inn í hreyfijöfnuna:\n",
    "\n",
    "$$\n",
    "    \\frac{\\sqrt{\\frac{a}{3b}}}{y_0} \\left(\\ddot{y} - \\left(\\color{blue}{a} - \\color{red}{3b} \\frac{\\color{blue}{a}}{\\color{red}{3b}} \\frac{y^2}{\\color{green}{y_0^2}} \\right) \\dot{y} + \\omega_0^2 y\\right) = 0\n",
    "$$"
   ]
  },
  {
   "cell_type": "markdown",
   "metadata": {},
   "source": [
    "Snyrtum til svigann og fáum óþvinguðu Van der Pol jöfnuna:\n",
    "\n",
    "$$\n",
    "    \\boxed{\\ddot{y} - \\frac{\\color{blue}{a}}{\\color{green}{y_0^2}}\\left(\\color{green}{y_0^2} - y^2 \\right) \\dot{y} + \\omega_0^2 y = 0}\n",
    "$$"
   ]
  },
  {
   "cell_type": "markdown",
   "metadata": {},
   "source": [
    "# Dæmi 6 (4-22)\n",
    "\n",
    "## Lausn\n"
   ]
  }
 ],
 "metadata": {
  "kernelspec": {
   "display_name": "Python 3",
   "language": "python",
   "name": "python3"
  },
  "language_info": {
   "codemirror_mode": {
    "name": "ipython",
    "version": 3
   },
   "file_extension": ".py",
   "mimetype": "text/x-python",
   "name": "python",
   "nbconvert_exporter": "python",
   "pygments_lexer": "ipython3",
   "version": "3.6.5"
  }
 },
 "nbformat": 4,
 "nbformat_minor": 2
}
