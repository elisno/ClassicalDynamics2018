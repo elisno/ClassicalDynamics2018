{
 "cells": [
  {
   "cell_type": "markdown",
   "metadata": {},
   "source": [
    "# Dæmi 1 (3-15)\n",
    "\n",
    "## Lausn\n",
    "\n",
    "Teiknum myndirnar út frá gefnu jöfnunum.\n",
    "\n",
    "$$\n",
    "    x(t) = A e^{-\\beta t} \\cos \\left( \\omega_1 t - \\delta\\right)\n",
    "$$\n",
    "\n",
    "og \n",
    "\n",
    "$$\n",
    "    \\dot{x}(t) = -A e^{-\\beta t} \\left[ \\beta \\cos \\left( \\omega_1 t - \\delta \\right)  + \\omega_1 \\sin \\left(\\omega_1 t - \\delta \\right) \\right]\n",
    "$$\n",
    "\n",
    "Athugum að kerfið er undirdeyft, $\\omega_1 \\equiv \\sqrt{ \\omega_0^2 - \\beta^2 } \\gt 0$"
   ]
  },
  {
   "cell_type": "code",
   "execution_count": 33,
   "metadata": {},
   "outputs": [],
   "source": [
    "import numpy as np\n",
    "import matplotlib.pyplot as plt\n",
    "from ipywidgets import interact"
   ]
  },
  {
   "cell_type": "code",
   "execution_count": 34,
   "metadata": {},
   "outputs": [],
   "source": [
    "def om1(om0,b):\n",
    "    return np.sqrt(om0**2 - b**2)\n",
    "\n",
    "def pos(A,b,om,d,t):\n",
    "    return A*np.exp(-b*t) * np.cos(om*t-d)\n",
    "    \n",
    "def vel(A,b,om,d,t):\n",
    "    return -A*np.exp(-b*t) *(b*np.cos(om*t-d) + om*np.sin(om*t-d))"
   ]
  },
  {
   "cell_type": "code",
   "execution_count": 35,
   "metadata": {},
   "outputs": [
    {
     "data": {
      "application/vnd.jupyter.widget-view+json": {
       "model_id": "154c9480d5ad431fa9722bba9ad1b815",
       "version_major": 2,
       "version_minor": 0
      },
      "text/plain": [
       "interactive(children=(FloatSlider(value=0.5, description='beta', max=1.0, step=0.05), FloatSlider(value=3.1415…"
      ]
     },
     "metadata": {},
     "output_type": "display_data"
    }
   ],
   "source": [
    "omega0 = 1.0\n",
    "trange = np.linspace(0,20*np.pi,500)\n",
    "A = 1.0\n",
    "@interact\n",
    "def plotting(beta=(0.00,omega0,0.05),delta=(0,2*np.pi)):\n",
    "\n",
    "    omega1 = om1(1.0,beta)\n",
    "    \n",
    "\n",
    "    x = pos(A,beta,omega1,delta,trange)\n",
    "    v = vel(A,beta,omega1,delta,trange)\n",
    "    expfun = np.exp(-beta*trange) \n",
    "    \n",
    "    \n",
    "   \n",
    "    plt.subplots_adjust(left=None, bottom=None, right=None, top=None,\n",
    "                wspace=0.5, hspace=0.5)\n",
    "    plt.rcParams[\"figure.figsize\"] = [16,9]\n",
    "    \n",
    "    \n",
    "    plt.subplot(121)\n",
    "    plt.plot(trange,x,'r-')\n",
    "    plt.plot(trange,expfun,'0.95')\n",
    "    plt.plot(trange,-expfun,'0.95')\n",
    "    plt.xlim(0.0,63.0)\n",
    "    plt.ylim(-1.0,1.0)\n",
    "    plt.xlabel('t (s)')\n",
    "    plt.ylabel('x (m)')\n",
    "    \n",
    "    plt.subplot(122)\n",
    "    plt.plot(x, v, 'g-')\n",
    "    plt.xlabel('x (m)')\n",
    "    plt.ylabel('v (m/s)')\n",
    "    plt.xlim(-1.0,1.0)\n",
    "    plt.ylim(-0.9,0.9)\n",
    "    \n",
    "    \n",
    " \n",
    "    plt.show()\n",
    "    "
   ]
  },
  {
   "cell_type": "code",
   "execution_count": 16,
   "metadata": {},
   "outputs": [
    {
     "data": {
      "application/vnd.jupyter.widget-view+json": {
       "model_id": "de7f6c1ea03a41acbd925cec1ee98309",
       "version_major": 2,
       "version_minor": 0
      },
      "text/plain": [
       "interactive(children=(FloatSlider(value=0.5, description='beta', max=1.0, step=0.05), FloatSlider(value=3.1415…"
      ]
     },
     "metadata": {},
     "output_type": "display_data"
    }
   ],
   "source": [
    "@interact\n",
    "def zoomedplot(beta=(0.00,omega0,0.05),delta=(0,2*np.pi)):\n",
    "    omega1 = om1(1.0,beta)\n",
    "    \n",
    "    trange = np.linspace(0,20*np.pi,500)\n",
    "    x = pos(A,beta,omega1,delta,trange)\n",
    "    expfun = np.exp(-beta*trange) \n",
    "    \n",
    "    plt.plot(trange,x,'r-')\n",
    "    plt.plot(trange,expfun,'0.95')\n",
    "    plt.plot(trange,-expfun,'0.95')\n",
    "    plt.plot(trange,0.01*np.ones(500),'b--')\n",
    "    plt.plot(trange,-0.01*np.ones(500),'b--')\n",
    "    plt.plot(trange,np.zeros(500),'k--',)\n",
    "    plt.xlim(0.0,63.0)\n",
    "    plt.ylim(-0.015,0.015)\n",
    "    plt.xlabel('t (s)')\n",
    "    plt.ylabel('x (m)')"
   ]
  },
  {
   "cell_type": "markdown",
   "metadata": {},
   "source": [
    "# Dæmi 2 (3-42)\n",
    "\n",
    "Höfum hreintóna sveifil sem upphaflega ($t=0$) er kyrrstæður í núllpunkti.\n",
    "1. Finnið lausn hreyfijöfnu ódeyfðs sveifils sem verður fyrir þvingunarkraftinum $F(t) = F_0 \\sin{\\omega t}$.\n",
    "\n",
    "2. Metið lausnina þegar $\\omega$ nálgast hermitíðni ódeyfðs sveifils.\n",
    "\n",
    "3. Gerið graf af lausninni.\n",
    "\n",
    "## Lausn\n",
    "\n",
    "Til að leysa hliðraða diffurjöfnu\n",
    "\n",
    "$$\n",
    "    m \\ddot{x} + m\\omega_0^2 x = F_0 \\sin(\\omega t), \\quad t \\geq 0\n",
    "$$\n",
    "\n",
    "þar fyrst að leysa óhliðruðu jöfnuna ($m \\ddot{x} + m\\omega_0^2 x = 0$) til að ákvarða almennu lausnina $x_c(t) = A \\sin(\\omega_0 t) + B \\cos(\\omega_0 t) $.\n",
    "\n",
    "Sérlausnin fæst með giskinu:\n",
    "\n",
    "$$\n",
    "    x_p(t) = C \\sin(\\omega t)\n",
    "$$\n",
    "\n",
    "og er henni stungið í hliðruðu diffurjöfnuna til þess að ákvarða :\n",
    "\n",
    "$$\n",
    "    C \\left( -m\\omega^2 + m \\omega_0^2 \\right) \\sin(\\omega t) = F_0 \\sin(\\omega t) \\qquad \\Rightarrow \\qquad \\boxed{C = \\frac{F_0}{m (\\omega_0^2 - \\omega^2)}}\n",
    "$$\n",
    "\n",
    "Heildarlausn hreyfijöfnunnar er summa almennu lausnarinnar og sérlausnarinnar:\n",
    "\n",
    "$$\n",
    "    x(t) = x_c(t)+ x_p(t) = A \\sin(\\omega_0 t) + B \\cos(\\omega_0 t) + C \\sin(\\omega t)\n",
    "$$\n",
    "\n",
    "Ákvörðum stuðlana út frá upphafsskilyrðunum:\n",
    "\n",
    "$$\n",
    "    \\begin{align}\n",
    "        x : \\qquad 0 &= B\\\\\n",
    "        v : \\qquad 0 &= A\\omega_0 +C\\omega \\qquad \\Rightarrow \\qquad A = -\\frac{\\omega}{\\omega_0}C\n",
    "    \\end{align}\n",
    "$$\n",
    "\n",
    "sem gefur okkur heildarlausnina:\n",
    "\n",
    "$$\n",
    "    \\boxed{x(t) = \\frac{F_0}{m \\omega_0 (\\omega_0^2 - \\omega^2)} \\left(\\omega_0 \\sin(\\omega t)  - \\omega \\sin(\\omega_0 t) \\right)}\n",
    "$$\n"
   ]
  },
  {
   "cell_type": "markdown",
   "metadata": {},
   "source": [
    "Markgildi $x(t)$ þegar að $\\omega \\rightarrow \\omega_0$ fæst með reglu L'Hôpital.\n",
    "\n",
    "$$\n",
    "    \\lim_{\\omega \\rightarrow \\omega_0} x(t)  = \\frac{F_0}{m \\omega_0} \\lim_{\\omega \\rightarrow \\omega_0}  \\frac{ \\omega_0 \\sin(\\omega t)  - \\omega \\sin(\\omega_0 t)} {(\\omega_0^2 - \\omega^2)} = \\frac{F_0}{m \\omega_0} \\lim_{\\omega \\rightarrow \\omega_0} \\frac{\\omega_0 t \\cos(\\omega t) - \\sin(\\omega_0 t)}{-2 \\omega}\n",
    "$$\n",
    "\n",
    "$$\n",
    "    \\boxed{\\lim_{\\omega \\rightarrow \\omega_0} x(t) = \\frac{F_0}{2m \\omega_0^2} \\left(  \\sin(\\omega_0 t) - (\\omega_0 t) \\cos(\\omega_0 t) \\right)} \n",
    "$$"
   ]
  },
  {
   "cell_type": "code",
   "execution_count": 32,
   "metadata": {},
   "outputs": [],
   "source": [
    "import numpy as np\n",
    "import matplotlib.pyplot as plt\n",
    "from ipywidgets import interact\n",
    "from scipy.special import factorial"
   ]
  },
  {
   "cell_type": "code",
   "execution_count": 1,
   "metadata": {},
   "outputs": [],
   "source": [
    " p = [0.0,0.0,0.0,1/3,0.0,\n",
    "         -1/30,0.0,1/840,0.0,-1/45360,0.0,1/3991680,0.0,\n",
    "         -1/518918400,0.0,1/93405312000,0.0,-1/22230464256000,0.0,1/6758061133824000,0.0,\n",
    "         -1/2554547108585472000,0.0,1/1175091669949317120000,0.0,-1/646300418472124416000000,0.0,\n",
    "         1/418802671169936621568000000,0.0,-1/315777214062132212662272000000,0.0,1/274094621805930760590852096000000,\n",
    "         0.0,-1/271353675587871452984943575040000000,0.0,1/303916116658416027343136804044800000000,0.0,\n",
    "         -1/382326474756287362397666099488358400000000,0.0,1/536786370557827456806323203681655193600000000,0.0,\n",
    "         -1/836313165329095177704251551336018791628800000000,0.0,1/1438458644366043705651312668297952321601536000000000,0.0,\n",
    "         -1/2718686837851822603680980943083129887826903040000000000,0.0,\n",
    "         1/5622244380677569144412268590295912608026035486720000000000,0.0,\n",
    "         -1/12672538834047240851505253402526987018490683987066880000000000,0.0,\n",
    "         1/31022375065747645604484860329386064221265194400339722240000000000,0.0,\n",
    "         -1/82209293924231260851884879872873070186352765160900263936000000000000,0.0,\n",
    "         1/235118580623301406036390756436416980732968908360174754856960000000000000,0.0,\n",
    "         -1/723694991158521727780010748311291466696078299932617895449722880000000000000,0.0,\n",
    "         1/2391088250787755788585155512420507005963842702977369526565884395520000000000000]"
   ]
  },
  {
   "cell_type": "code",
   "execution_count": 30,
   "metadata": {},
   "outputs": [],
   "source": [
    "def driven_resonance_posision(om,t):\n",
    "    Fm = 1.0\n",
    "    #return 2*Fm/(2*om**2) *(np.sin(om*t)-om*t*np.cos(om*t))\n",
    "    return (np.sin(t)-(t)*np.cos(t))\n",
    "\n",
    "\n",
    "def sin_cos_expansion(N,x):\n",
    "    # Expanding the function 'sin(x) - x cos(x)' where p stores the corresponding expansion coefficients.\n",
    "    P = p[:N]\n",
    "    res = 0.0\n",
    "    for i in range(N):\n",
    "        res += P[i]*x**i\n",
    "        \n",
    "    return res\n",
    "\n",
    "def envelope(om,t):\n",
    "    Fm = 1.0\n",
    "    return Fm/(2*om)*t"
   ]
  },
  {
   "cell_type": "code",
   "execution_count": 20,
   "metadata": {},
   "outputs": [],
   "source": [
    "def plot_resonance_driven(om):\n",
    "    trange = np.linspace(0,8*np.pi,400)\n",
    "    x = driven_resonance_posision(om,trange)\n",
    "    \n",
    "    plt.plot(trange,x,'r-')\n",
    "    plt.xlim(0.0,20.0)\n",
    "    plt.ylim(-24.0,24.0)\n",
    "    plt.xlabel('t (s)')\n",
    "    plt.ylabel('x (m)')\n",
    "    #plt.show() # Uncomment for explicit calls?\n",
    "        \n",
    "def plot_sin(n):\n",
    "    t = np.linspace(0.0,20.0,200)\n",
    "    s = sin_cos_expansion(n,t)\n",
    "    \n",
    "    plt.plot(t,s)\n",
    "    plt.xlim(0.0,20.0)\n",
    "    plt.ylim(-20.0,20.0)\n",
    "    plt.xlabel('t (s)')\n",
    "    plt.ylabel('x (m)')\n",
    "    plt.show()\n",
    "    \n",
    "def plot_envelope(om):\n",
    "    trange = np.linspace(0.0,20.0,200)\n",
    "    env = envelope(om,trange)\n",
    "    plt.plot(trange,env,'0.85')\n",
    "    plt.plot(trange,-env,'0.85')\n",
    "    plt.xlim(0.0,20.0)\n",
    "    "
   ]
  },
  {
   "cell_type": "code",
   "execution_count": 31,
   "metadata": {},
   "outputs": [
    {
     "data": {
      "application/vnd.jupyter.widget-view+json": {
       "model_id": "afcaa48e4aa0483ab57687c1dc87a6e5",
       "version_major": 2,
       "version_minor": 0
      },
      "text/plain": [
       "interactive(children=(FloatSlider(value=2.5, description='omega0', max=5.0), IntSlider(value=59, description='…"
      ]
     },
     "metadata": {},
     "output_type": "display_data"
    }
   ],
   "source": [
    "@interact(omega0=(0.0,5.0),num_terms=(1,60,2))    \n",
    "def plot_resonance_and_taylor(omega0=2.50,num_terms=59):\n",
    "    plt.rcParams[\"figure.figsize\"] = [16,9]\n",
    "    plot_envelope(omega0)\n",
    "    plot_resonance_driven(omega0) \n",
    "    plot_sin(num_terms+1)\n",
    "    "
   ]
  },
  {
   "cell_type": "code",
   "execution_count": 2,
   "metadata": {},
   "outputs": [
    {
     "ename": "ModuleNotFoundError",
     "evalue": "No module named 'sympy'",
     "output_type": "error",
     "traceback": [
      "\u001b[0;31m---------------------------------------------------------------------------\u001b[0m",
      "\u001b[0;31mModuleNotFoundError\u001b[0m                       Traceback (most recent call last)",
      "\u001b[0;32m<ipython-input-2-c0b604bec8bd>\u001b[0m in \u001b[0;36m<module>\u001b[0;34m()\u001b[0m\n\u001b[1;32m      1\u001b[0m \u001b[0;31m# Experimental code for evaluating symbolic taylor expansions\u001b[0m\u001b[0;34m\u001b[0m\u001b[0;34m\u001b[0m\u001b[0m\n\u001b[1;32m      2\u001b[0m \u001b[0;34m\u001b[0m\u001b[0m\n\u001b[0;32m----> 3\u001b[0;31m \u001b[0;32mfrom\u001b[0m \u001b[0msympy\u001b[0m \u001b[0;32mimport\u001b[0m \u001b[0mSymbol\u001b[0m\u001b[0;34m,\u001b[0m \u001b[0msin\u001b[0m\u001b[0;34m,\u001b[0m \u001b[0mcos\u001b[0m\u001b[0;34m,\u001b[0m \u001b[0mseries\u001b[0m\u001b[0;34m,\u001b[0m \u001b[0minit_printing\u001b[0m\u001b[0;34m\u001b[0m\u001b[0m\n\u001b[0m\u001b[1;32m      4\u001b[0m \u001b[0;32mimport\u001b[0m \u001b[0mnumpy\u001b[0m \u001b[0;32mas\u001b[0m \u001b[0mnp\u001b[0m\u001b[0;34m\u001b[0m\u001b[0m\n\u001b[1;32m      5\u001b[0m \u001b[0;34m\u001b[0m\u001b[0m\n",
      "\u001b[0;31mModuleNotFoundError\u001b[0m: No module named 'sympy'"
     ]
    }
   ],
   "source": [
    "# Experimental code for evaluating symbolic taylor expansions\n",
    "\n",
    "from sympy import Symbol, sin, cos, series, init_printing\n",
    "import numpy as np\n",
    "\n",
    "from ipywidgets import interact\n",
    "\n",
    "init_printing()\n",
    "x = Symbol('x')\n",
    "\n",
    "\n",
    "@interact\n",
    "def expand_sin(num_terms=(1,60)):\n",
    "    trange = np.linspace(0.0,20.0,200)\n",
    "    print(series(sin(x)-x*cos(x),x,n=num_terms))\n",
    " \n"
   ]
  },
  {
   "cell_type": "markdown",
   "metadata": {},
   "source": [
    "# Dæmi 3 (3-28)\n",
    "\n",
    "## Lausn\n",
    "Þurfum að ákvarða Fourier-stuðla með:\n",
    "\n",
    "$$\n",
    "    b_n = \\frac{2}{\\frac{2\\pi}{\\omega}} \\int_{-\\frac{\\pi}{\\omega}}^{\\frac{\\pi}{\\omega}} F(t') \\sin(n \\omega t') dt' = 2 \\frac{\\omega}{\\pi}  \\left(-\\int_{-\\frac{\\pi}{\\omega}}^{0} \\sin(n \\omega t') dt' \\right) = \\frac{2}{\\pi n} \\left( 1 - \\cos(n\\pi) \\right) = \\boxed{\\frac{2}{\\pi n} \\left( 1 - (-1)^n\\right)}\n",
    "$$\n",
    "\n",
    "til þess að geta skrifað $F(t) = \\sum_{n=1}^\\infty b_n \\sin(n \\omega t)$ (því að $F(t)$ er oddstætt fall)."
   ]
  },
  {
   "cell_type": "code",
   "execution_count": 22,
   "metadata": {},
   "outputs": [
    {
     "data": {
      "application/vnd.jupyter.widget-view+json": {
       "model_id": "a2551329487f436f8d1c9f0fb6ef704d",
       "version_major": 2,
       "version_minor": 0
      },
      "text/plain": [
       "interactive(children=(IntSlider(value=1, description='n', max=129, min=1), Output()), _dom_classes=('widget-in…"
      ]
     },
     "metadata": {},
     "output_type": "display_data"
    }
   ],
   "source": [
    "def sign_coefficient(n):\n",
    "    return 2/(np.pi * n)*(1-(-1)**n)\n",
    "\n",
    "def sign_expansion(x,w,n):\n",
    "    res = 0.0\n",
    "    for i in range(1,n+1):\n",
    "        res += sign_coefficient(i)*np.sin(i*w*x)\n",
    "        \n",
    "    return res\n",
    "\n",
    "@interact(n=(1,129))\n",
    "def plot_sign(n=1):\n",
    "    omega = 1.0\n",
    "    t = np.linspace(-np.pi,np.pi,800)\n",
    "    s = sign_expansion(t,omega,n)\n",
    "    \n",
    "    plt.plot(t,s)\n",
    "    \n",
    "    plt.plot([-np.pi,0],[-1,-1],'k--')\n",
    "    #plt.plot([0,0],[-1,1],'k--')\n",
    "    plt.plot([0,np.pi],[1,1],'k--')\n",
    "    \n",
    "    plt.xlim(-np.pi,np.pi)\n",
    "    plt.ylim(-1.5,1.5)\n",
    "    plt.xlabel('t (s)')\n",
    "    plt.ylabel('x (m)')\n",
    "    plt.show()\n",
    "    "
   ]
  },
  {
   "cell_type": "markdown",
   "metadata": {},
   "source": [
    "# Dæmi 4 (3-9)\n",
    "\n",
    "## Lausn\n",
    "\n",
    "Finnum fyrst lausn hreyfijöfnunnar $m\\ddot{x} = -k(x-x_0) + F$. Þetta er gert eins og í dæmi 2, nema að við skrifum almennu lausnina á forminu $ x_c = A e^{i \\omega t} + B e^{-i \\omega t}$. Óákvarðaða sérlausnin (m. óþekktum stuðlum) er fundin með því að \"giska\" á að hún sé á sama formi og hliðrunarliðurinn $F$ (fast). Henni er stungið inn í hliðruðu hreyfijöfnuna til þess að ákvarða stuðla hennar. Að lokum fæst heildarlausnin:\n",
    "\n",
    "$$\n",
    "    x(t) = x_c + x_p = A e^{i \\omega t} + B e^{-i \\omega t} + \\left( \\frac{F}{k} + x_0 \\right), \\qquad 0 \\leq t \\leq t_0\n",
    "$$\n",
    "\n",
    "$A$ og $B$ eru svo ákvarðaðir út frá upphafsskilyrðunum (eins og gert er í dæmi 2):\n",
    "\n",
    "$$\n",
    "    \\begin{align}\n",
    "        x : \\qquad x_0 &= A + B + \\left( \\frac{F}{k} + x_0 \\right)\\\\\n",
    "        v : \\qquad 0 &= i\\omega A -i\\omega B \\qquad \\Rightarrow \\qquad A = B = -\\frac{F}{2k}\n",
    "    \\end{align}\n",
    "$$\n",
    "\n",
    "$$\n",
    "    x(t) = -\\frac{F}{k}  \\frac{e^{i \\omega t} + e^{-i \\omega t}}{2} + \\frac{F}{k} + x_0 = \\frac{F}{k}\\left( 1 -  \\cos(\\omega t)  \\right) + x_0, \\qquad 0 \\leq t \\leq t_0\n",
    "$$"
   ]
  },
  {
   "cell_type": "markdown",
   "metadata": {},
   "source": [
    "Þetta ferli er endurtekið fyrir hreyfijöfnu kerfisins ($m\\ddot{x} = -k(x-x_0)$) þegar að slökkt er á fasta kraftinum ($t \\geq t_0$):\n",
    "\n",
    "\n",
    "$$\n",
    "    \\begin{align}\n",
    "        x &: \\qquad \\frac{F}{k}\\left( 1 -  \\cos(\\omega t_0)  \\right) + x_0 = C \\cos( 0) + D \\sin( 0) +  x_0\\\\\n",
    "        v &: \\ \\ \\quad \\qquad \\qquad \\frac{F\\omega}{k} \\sin(\\omega t_0) = -\\omega C \\sin( 0)  + \\omega D \\cos(0) \\qquad \\Rightarrow \\qquad C = \\frac{F}{k}\\left( 1 -  \\cos(\\omega t_0)  \\right), \\ D = \\frac{F}{k} \\sin(\\omega t_0)\n",
    "    \\end{align}\n",
    "$$\n",
    "\n",
    "Tökum saman stuðlana og fáum heildarlausnina\n",
    "\n",
    "$$\n",
    "    x(t) = \\frac{F}{k}\\left( 1 -  \\color{red}{\\cos(\\omega t_0)}  \\right) \\cos(\\omega (t-t_0)) + \\frac{F}{k} \\color{red}{\\sin(\\omega t_0) \\sin(\\omega (t-t_0))} + x_0\n",
    "$$\n",
    "\n",
    "Nýtum okkur eftirfarandi hornafallareglu: $\\cos(A \\pm B) = \\cos(A) \\cos(B) \\mp \\sin(A) \\sin(B)$:\n",
    "\n",
    "$$\n",
    "    \\boxed{x(t) = \\frac{F}{k}\\left( \\cos(\\omega(t-t_0)) -  \\color{red}{\\cos(\\omega t)}  \\right)  + x_0}\n",
    "$$"
   ]
  },
  {
   "cell_type": "code",
   "execution_count": 39,
   "metadata": {},
   "outputs": [
    {
     "data": {
      "application/vnd.jupyter.widget-view+json": {
       "model_id": "79565cc6d3bf4c4bb6a25fd10a1e4f90",
       "version_major": 2,
       "version_minor": 0
      },
      "text/plain": [
       "interactive(children=(FloatSlider(value=44.0, description='t0', max=90.0, step=2.0), FloatSlider(value=3.5, de…"
      ]
     },
     "metadata": {},
     "output_type": "display_data"
    }
   ],
   "source": [
    "def impulse_position1(t,m,k,F):\n",
    "    om = np.sqrt(k/m)\n",
    "    \n",
    "    #return F/k * (np.cos(om*t)*np.cos(om*t0) + np.sin(om*t)*np.sin(om*t0) - np.cos(om*t))\n",
    "    return F/k * (1 - np.cos(om*t))\n",
    "\n",
    "\n",
    "\n",
    "def impulse_position2(t,t0,m,k,F):\n",
    "    om = np.sqrt(k/m)\n",
    "    \n",
    "    #return F/k * (np.cos(om*t)*np.cos(om*t0) + np.sin(om*t)*np.sin(om*t0) - np.cos(om*t))\n",
    "    return F/k * (np.cos(om*(t-t0)) - np.cos(om*t))\n",
    "\n",
    "\n",
    "@interact(t0=(0.0,90.0,2.0),m=(1.0,6.0,0.25),k=(0.5,2.5),F=(0.0,3.0))\n",
    "def plot_impulse(t0,m,k,F):\n",
    "    \n",
    "    t1 = np.linspace(0.0,t0,400)\n",
    "    t2 = np.linspace(t0,40,400)\n",
    "    x1 = impulse_position1(t1,m,k,F)\n",
    "    x2 = impulse_position2(t2,t0,m,k,F)\n",
    "    \n",
    "    plt.plot(t1,x1)\n",
    "    plt.plot(t2,x2)\n",
    "    \n",
    "    plt.plot([0,t0],[F/k,F/k],'0.65')\n",
    "    plt.plot([t0,t0],[F/k,0],'0.65')\n",
    "    plt.plot([t0,40],[0,0],'0.65')\n",
    "    \n",
    "    plt.xlim(0,40.0)\n",
    "    plt.ylim(-2.0,2.5)\n",
    "    plt.xlabel('t (s)')\n",
    "    plt.ylabel('x (m)')\n",
    "    plt.show()"
   ]
  },
  {
   "cell_type": "markdown",
   "metadata": {},
   "source": [
    "# Dæmi 5 (3-45)\n",
    "\n",
    "\n",
    "## Lausn\n",
    "\n",
    "Ákvörðum $Q = \\frac{\\sqrt{\\omega_0^2 - 2\\beta^2}}{2\\beta} = \\frac{\\sqrt{\\frac{\\omega_0^2}{\\beta^2} - 2}}{2}$ með því að finna dempunarstuðulinn $\\beta$.\n",
    "\n",
    "Hreyfijafna einfalds pendúlds er $ \\ddot{\\theta} +  2\\sqrt{\\frac{g}{l}}\\dot{\\theta} + \\frac{g}{l}\\theta = 0$ fyrir lítil útslög. \n",
    "\n",
    "Lausn hreyfijöfnunnar er $\\theta(t) = \\theta_0 e^{-\\beta t} \\cos(\\omega_0 t)$, þar sem $\\beta = \\sqrt{\\frac{g}{l}} $ og $\\omega_0^2 = \\frac{g}{l}$."
   ]
  },
  {
   "cell_type": "markdown",
   "metadata": {},
   "source": [
    "Þessi jafna gildir hins vegar einungis fyrir eina sveiflu, því hreyfijafnan lýsir ekki togkraftinum frá lóðinu. Við getum reiknað orkutap pendúlsins í einni sveiflu, og sagt svo að hann sé endurstilltur með togkraftinum frá lóðinu.\n",
    "Með margliðunálgun, getum við endurtúlkað $\\beta$ sem deyfingarstuðuls lóðsins.\n",
    "\n",
    "\n",
    "Stöðorkutap pendúlsins í hverri sveiflu: $\\frac{mgl\\theta \\sin(\\theta)}{2} \\approx \\frac{mgl\\theta^2}{2}$"
   ]
  },
  {
   "cell_type": "markdown",
   "metadata": {},
   "source": [
    "Útslagið hefur minnkað í einni sveiflu:\n",
    "\n",
    "$$\n",
    "   \\theta(0) = \\theta_0, \\quad \\theta(T) = \\theta_0 e^{-\\beta T} \\qquad \\Rightarrow \\qquad \\theta(0) - \\theta(T) = \\theta_0 (1-e^{-\\beta T}) \\approx \\theta_0 \\beta T + \\ldots\n",
    "$$\n",
    "\n",
    "Því er orkutap pendúlsins í hverri sveiflu $\\frac{mgl(\\theta(0)^2 - \\theta(T)^2)}{2} \\approx \\frac{mgl\\theta_0^2}{2}  \\cdot 2\\beta T$"
   ]
  },
  {
   "cell_type": "markdown",
   "metadata": {},
   "source": [
    "Heildarorkutapið á einni viku $\\tau$ verður því:\n",
    "\n",
    "$$\n",
    "    \\frac{mgl\\theta_0^2}{2}  \\cdot 2\\beta \\tau = M g h\n",
    "$$\n",
    "\n",
    "þar sem hægri hlið jöfnunnar lýsir stöðuorkutapi lóðsins. Einangrum $\\beta$ og ákvörðum $Q$ út frá því:\n",
    "\n",
    "$$\n",
    "    \\beta = \\frac{Mg}{ml\\theta_0^2 \\tau} \\qquad \\Rightarrow Q = \\frac{\\sqrt{\\frac{\\omega_0^2}{\\beta^2} - 2}}{2}  \\approx \\frac{\\sqrt{\\frac{g m^2 l \\theta_0^4 \\tau ^2}{M^2 h^2} -2} }{2}\n",
    "$$"
   ]
  },
  {
   "cell_type": "code",
   "execution_count": 40,
   "metadata": {},
   "outputs": [
    {
     "name": "stdout",
     "output_type": "stream",
     "text": [
      "Q =  178\n"
     ]
    }
   ],
   "source": [
    "import numpy as np\n",
    "\n",
    "g = 9.8\n",
    "l = 0.7\n",
    "m = 0.4\n",
    "M = 2.0\n",
    "h = 0.8\n",
    "theta0 = 0.03\n",
    "tau = 7*24*3600\n",
    "\n",
    "\n",
    "def beta(M,h,m,l,t,T):\n",
    "    return M*h/(m*l*t**2*T)\n",
    "\n",
    "def omega02(g,l):\n",
    "    return g/l\n",
    "\n",
    "def Qfactor(b,o):\n",
    "    return np.sqrt(o/b**2 - 2.0)/2.0\n",
    "\n",
    "Q = Qfactor(beta(M,h,m,l,theta0,tau),omega02(g,l))\n",
    "#Q = 0.5*np.sqrt(g*m**2*l*theta0**4*tau**2/(M**2*h**2) - 2.0)\n",
    "print(\"Q = \", int(round(Q,0)))"
   ]
  },
  {
   "cell_type": "markdown",
   "metadata": {},
   "source": [
    "# Dæmi 6 (3-23)\n",
    "\n",
    "## Lausn \n",
    "\n",
    "Teiknum\n",
    "\n",
    "$$\n",
    "    x(t) = A e^{-\\beta t} \\cos(\\omega_1 t - \\delta)\n",
    "$$"
   ]
  },
  {
   "cell_type": "code",
   "execution_count": 41,
   "metadata": {},
   "outputs": [
    {
     "data": {
      "application/vnd.jupyter.widget-view+json": {
       "model_id": "e7ea65c7340a48269accaec21b0699b5",
       "version_major": 2,
       "version_minor": 0
      },
      "text/plain": [
       "interactive(children=(FloatSlider(value=1.0, description='b', max=2.0, step=0.05), FloatSlider(value=1.0, desc…"
      ]
     },
     "metadata": {},
     "output_type": "display_data"
    }
   ],
   "source": [
    "import numpy as np\n",
    "import matplotlib.pyplot as plt\n",
    "from ipywidgets import interact\n",
    "\n",
    "def damped_pos(A,b,o,d,t):\n",
    "    return A * np.exp(-b*t) * np.cos(o*t - d)\n",
    "\n",
    "def damping_term(A,b,t):\n",
    "    return A * np.exp(-b*t)\n",
    "\n",
    "def oscillating_term(A,o,d,t):\n",
    "        return A*np.cos(o*t - d)\n",
    "\n",
    "def omega1(o0,b):\n",
    "    return np.sqrt(o0**2-b**2)\n",
    "\n",
    "@interact(b=(0.0,2.0,0.05),omega0=(0.0,2.0,0.05),delta=(0.0,np.pi,np.pi/16))\n",
    "def plot_damped(b,omega0,delta):\n",
    "    \n",
    "    \n",
    "    trange = np.linspace(0.0,20.0,200)\n",
    "    x = damped_pos(1.0,b,omega1(omega0,b),delta,trange)\n",
    "    damp = damping_term(1.0,b,trange)\n",
    "    osc = oscillating_term(1.0,omega1(omega0,b),delta,trange)\n",
    "    \n",
    "    plt.rcParams[\"figure.figsize\"] = [16,9]\n",
    "    \n",
    "    plt.plot(trange,x,'b')\n",
    "    plt.plot(trange,damp,'r--')\n",
    "    plt.plot(trange,osc,'g--')\n",
    "    plt.xlim(0,20.0)\n",
    "    plt.ylim(-1.0,1.0)\n",
    "    plt.xlabel('t (s)')\n",
    "    plt.ylabel('x (m)')\n",
    "    plt.show()\n",
    "    "
   ]
  },
  {
   "cell_type": "code",
   "execution_count": null,
   "metadata": {},
   "outputs": [],
   "source": []
  }
 ],
 "metadata": {
  "kernelspec": {
   "display_name": "Python 3",
   "language": "python",
   "name": "python3"
  },
  "language_info": {
   "codemirror_mode": {
    "name": "ipython",
    "version": 3
   },
   "file_extension": ".py",
   "mimetype": "text/x-python",
   "name": "python",
   "nbconvert_exporter": "python",
   "pygments_lexer": "ipython3",
   "version": "3.6.5"
  }
 },
 "nbformat": 4,
 "nbformat_minor": 2
}
