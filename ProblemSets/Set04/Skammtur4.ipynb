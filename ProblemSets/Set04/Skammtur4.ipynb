{
 "cells": [
  {
   "cell_type": "markdown",
   "metadata": {},
   "source": [
    "# Dæmi 5-13\n",
    "\n",
    "A planet of density $\\rho_1$ (spherical core, radius $R_1$) with a thick spherical cloud of dust (density $\\rho_2$, radius $R_2$) is discovered. \n",
    "\n",
    "What is the force on a particle of mass $m$ placed within the dust cloud?"
   ]
  },
  {
   "cell_type": "markdown",
   "metadata": {},
   "source": [
    "## Lausn\n",
    "\n",
    "Massadreifingin er kúlusamhverf, svo þyngdarsviðið er einungis háð $r$. Hér notum við lögmál Gauss til að finna þyngdarsviðið og þar með þyngdarkraftinn sem virkar og ögnina.\n",
    "\n",
    "\n",
    "$\\oint \\vec{g} \\cdot d\\vec{s} = -4\\pi G M_\\text{encl}$\n",
    "\n",
    "Nú hefur $g$ fast tölugildi á yfirborðinu $s$: $\\qquad g \\cdot 4\\pi r^2 = -4\\pi G M_\\text{encl}$\n",
    "\n",
    "Hér er $M_\\text{encl} =  \\frac{4}{3}\\pi \\left( (\\rho_1 - \\rho_2)R_1^3 + \\rho_2 r^3 \\right)$.\n",
    "\n",
    "\n",
    "Þá er þyngdarkrafturinn \n",
    "\n",
    "$\\vec{F}(r) = m \\vec{g}(r) = -\\frac{4}{3}\\pi G m \\left( \\frac{(\\rho_1 - \\rho_2)R_1^3}{r^2} + \\rho_2 r \\right) \\hat{r}$"
   ]
  },
  {
   "cell_type": "markdown",
   "metadata": {},
   "source": [
    "# Dæmi 5-05\n",
    "\n",
    "A particle falls to Earth starting from rest at a great height (many times Earth's radius).\n",
    "\n",
    "Neglect air resistance and show that the particle requires approximately $\\frac{9}{11}$ of the total time of fall to traverse the first half of the distance."
   ]
  },
  {
   "cell_type": "markdown",
   "metadata": {},
   "source": [
    "## Lausn"
   ]
  },
  {
   "cell_type": "markdown",
   "metadata": {},
   "source": [
    "Notum jöfnu (2.98) í bók þar sem $U(r) =  -\\frac{GMm}{r}$ og $E = U(R+h) = - \\frac{GMm}{R+h}$:\n",
    "\n",
    "$$\n",
    "t - t_0 = \\int_{R+h}^r \\frac{dr'}{\\sqrt{\\frac{2}{m}(E - U(r))}} = \\ldots = - \\frac{\\sqrt{R+h}}{\\sqrt{2GM}} \\int_{R+h}^r \\sqrt{\\frac{r'}{R + h - r'}}dr'\n",
    "$$"
   ]
  },
  {
   "cell_type": "markdown",
   "metadata": {},
   "source": [
    "Notum jöfnu (E.7) í viðauka E og breytuskiptin $x^2 = r'$:\n",
    "\n",
    "$$\n",
    "    t - t_0 = - \\frac{2 \\sqrt{R+h}}{\\sqrt{2GM}} \\int_\\sqrt{R+h}^\\sqrt{r} \\frac{x^2 dx}{\\sqrt{(R+h) - x^2}} = \\text{\"fastar\"} \\cdot \\left[- \\frac{x}{2}\\sqrt{(R+h) - x^2} + \\frac{R+h}{2}\\sin^{-1}\\left( \\frac{x}{\\sqrt{R+h}} \\right) \\right]_\\sqrt{R+h}^\\sqrt{r}\n",
    "$$\n",
    "\n"
   ]
  },
  {
   "cell_type": "markdown",
   "metadata": {},
   "source": [
    "Við viljum ákvarða hlutfall falltíma við að falla niður í $R+\\frac{h}{2}$ og $R$\n",
    "\n",
    "\n",
    "$$\n",
    "\\frac{T_{R+\\frac{h}{2}}}{T_{R+h}} = \\frac{\\left[- \\frac{x}{2}\\sqrt{(R+h) - x^2} + \\frac{R+h}{2}\\sin^{-1}\\left( \\frac{x}{\\sqrt{R+h}} \\right) \\right]_\\sqrt{R+h}^\\sqrt{R+\\frac{h}{2}}}{\\left[- \\frac{x}{2}\\sqrt{(R+h) - x^2} + \\frac{R+h}{2}\\sin^{-1}\\left( \\frac{x}{\\sqrt{R+h}} \\right) \\right]_\\sqrt{R+h}^\\sqrt{R}}\n",
    "$$\n"
   ]
  },
  {
   "cell_type": "markdown",
   "metadata": {},
   "source": [
    "\n",
    "\n",
    "$$\n",
    "\\frac{T_{R+\\frac{h}{2}}}{T_{R+h}} = \\frac{- \\frac{\\sqrt{R+\\frac{h}{2}}}{2}\\sqrt{\\frac{h}{2}} + \\frac{R+h}{2}\\sin^{-1}\\left( \\frac{\\sqrt{R+\\frac{h}{2}}}{\\sqrt{R+h}}  \\right) - \\frac{R+h}{2}\\sin^{-1}\\left( 1 \\right) }{- \\frac{\\sqrt{R}}{2}\\sqrt{h} + \\frac{R+h}{2}\\sin^{-1}\\left( \\frac{\\sqrt{R}}{\\sqrt{R+h}} \\right) - \\frac{R+h}{2} \\sin^{-1}\\left( 1 \\right)}\n",
    "$$"
   ]
  },
  {
   "cell_type": "markdown",
   "metadata": {},
   "source": [
    "$$\n",
    "\\frac{T_{R+\\frac{h}{2}}}{T_{R+h}} = \\frac{- \\frac{\\sqrt{R+\\frac{h}{2}}}{2}\\sqrt{\\frac{h}{2}} + \\frac{R+h}{2}\\sin^{-1}\\left( \\frac{\\sqrt{R+\\frac{h}{2}}}{\\sqrt{R+h}}  \\right) - \\frac{R+h}{2}\\frac{\\pi}{2} }{- \\frac{\\sqrt{R}}{2}\\sqrt{h} + \\frac{R+h}{2}\\sin^{-1}\\left( \\frac{\\sqrt{R}}{\\sqrt{R+h}} \\right) - \\frac{R+h}{2} \\frac{\\pi}{2}}\n",
    "$$"
   ]
  },
  {
   "cell_type": "markdown",
   "metadata": {},
   "source": [
    "# Dæmi 5-04\n",
    "\n",
    "A particle at rest is attracted toward a center of force according to the relation $F = - \\frac{mk^2}{x^3}$. \n",
    "\n",
    "Show that the time required for the particle to reach the force center from a distance $d$ is $\\frac{d^2}{k}$."
   ]
  },
  {
   "cell_type": "markdown",
   "metadata": {},
   "source": [
    "## Lausn\n",
    "\n",
    "Samsvarandi stöðuorka er $U(x) = -\\int F(x) dx = -\\frac{mk^2}{x^2} + U_0$.\n",
    "\n",
    "Heildarorka kerfisins varðveitist:\n",
    "\n",
    "$$\n",
    "E = T + U(x) = \\frac{1}{2}mv^2 -\\frac{mk^2}{x^2} = -\\frac{mk^2}{d^2} \\quad (\\text{þegar } v = 0 \\ (\\text{ í upphafi}))\n",
    "$$\n",
    "\n",
    "Notum jöfnu (2.98):\n",
    "\n",
    "$$\n",
    " t - t_0 = - \\int_d^0 \\frac{dx}{\\sqrt{\\frac{2}{m}\\left( \\frac{mk^2}{2x^2} - \\frac{mk^2}{2d^2}\\right)}} = - \\frac{d}{k} \\cdot \\left[ - \\sqrt{d^2 - x^2}\\right]_d^0 = \\boxed{\\frac{d^2}{k}}\n",
    "$$"
   ]
  },
  {
   "cell_type": "markdown",
   "metadata": {},
   "source": [
    "# Dæmi 5-20\n",
    "\n",
    "A thin disk of mass $M$ and radius $R$ lies in the $(x,y)$ plane with the $z$-axis passing through the center of the disk. \n",
    "\n",
    "Calculate the gravitational potential $\\Phi(z)$ and the gravitational field $\\vec{g}(z) = - \\nabla \\Phi(z) = - \\hat{k}\\frac{d\\Phi(z)}{dz}$ on the $z$-axis."
   ]
  },
  {
   "cell_type": "markdown",
   "metadata": {},
   "source": [
    "## Lausn\n",
    "\n",
    "Diskurinn hefur þéttleikann $\\rho = \\frac{M}{\\pi R^2}$.\n",
    "\n",
    "Skiptum disknum í örþunnar lykkjur með radíus $x$, örsmæðarþykkt $dx$ og örsmæðarmassa $dM = \\rho 2\\pi x dx = \\frac{2M}{R^2}xdx$.\n",
    "\n",
    "Örsmæðarþyngdarmættið frá hverri lykkju er því $d\\Phi(x) = -G \\frac{dM}{\\sqrt{x^2 + z^2}} = - \\frac{2GM}{R^2} \\frac{x dx}{\\sqrt{x^2 + z^2}}$.\n",
    "\n",
    "Leggjum saman framlög lykkjanna til heildarmættisins með því að heilda:\n",
    "\n",
    "$$\n",
    "\\Phi(z) = - \\frac{2GM}{R^2}\\int_0^R \\frac{x dx}{\\sqrt{x^2 + z^2}} = \\boxed{- \\frac{2GM}{R^2} \\left( \\sqrt{R^2 + z^2} - z\\right) }\n",
    "$$\n",
    "\n",
    "\n",
    "Þyngdarsviðið er þá \n",
    "\n",
    "$$\n",
    "    \\vec{g}(z) = - \\frac{d\\Phi(z)}{dz} \\hat{k} =  \\frac{2GM}{R^2} \\left( \\frac{z}{\\sqrt{R^2 + z^2}} - 1 \\right) \\hat{k} = \\boxed{-\\frac{2GM}{R^2} \\left( \\frac{\\sqrt{R^2 + z^2} - z}{\\sqrt{R^2 + z^2}} \\right) \\hat{k}}\n",
    "$$"
   ]
  },
  {
   "cell_type": "markdown",
   "metadata": {},
   "source": [
    "# Dæmi 6-01\n",
    "\n",
    "Consider the line connecting $(x_1, y_1) = (0,0)$ and $(x_2, y_2)  = (1,1)$.\n",
    "\n",
    "Show explicitly that the function $y(x) = x$ produces a minimum path length by using the varied function $y(\\alpha,x) = x + \\alpha \\sin \\pi(1-x)$. \n",
    "\n",
    "Use the first few terms in the expansion of the resulting elliptic integral to show the equivalent of Equation (6.4).\n",
    "\n"
   ]
  },
  {
   "cell_type": "markdown",
   "metadata": {},
   "source": [
    "## Lausn\n",
    "\n",
    "Við viljum lágmarka vegalengdina $S$:\n",
    "\n",
    "$$\n",
    "S= \\int_{(0,0)}^{(1,1)} \\sqrt{dx^2 + dy^2 } = \\int_0^1 \\sqrt{1 + \\left(\\frac{dy}{dx}\\right)^2}dx\n",
    "$$\n",
    "\n",
    "Nú er $\\frac{dy}{dx} = 1 - \\alpha \\pi \\cos(\\pi (1-x))$:\n",
    "\n",
    "$$\n",
    "S = \\sqrt{2} \\int_0^1 \\sqrt{1 - \\alpha \\pi \\cos(\\pi(1-x)) + \\frac{\\alpha^2 \\pi^2}{2}\\cos^2(\\pi(1-x))} dx\n",
    "$$\n",
    "\n",
    "Notum breytuskiptin $u = \\pi(1-x)$:\n",
    "\n",
    "$$\n",
    "S = \\frac{\\sqrt{2}}{\\pi} \\int_0^\\pi \\sqrt{1 - \\alpha \\pi \\cos(u) + \\frac{\\alpha^2 \\pi^2}{2}\\cos^2(u)} du\n",
    "$$\n",
    "\n",
    "Þetta sporbaugsheildi þarf að nálga (þar sem gert er ráð fyrir að $\\alpha \\ll 1$):\n",
    "\n",
    "$$\n",
    "S \\approx \\frac{\\sqrt{2}}{\\pi} \\int_0^\\pi (\\color{blue}{1} - \\color{red}{\\frac{\\alpha \\pi}{2} \\cos(u)} + \\frac{\\alpha^2 \\pi^2}{8} \\cos^2(u) + \\dots)du = \\color{blue}{\\sqrt{2}} + \\frac{\\sqrt{2}}{\\pi} \\left[ \\frac{\\alpha^2 \\pi^2}{8} \\left( \\frac{u}{2} + \\frac{1}{4}\\sin(2u)\\right) + \\dots \\right]_0^\\pi\n",
    "$$\n",
    "\n",
    "\n",
    "$$\n",
    "S \\approx \\sqrt{2} + \\frac{\\sqrt{2}}{16}(\\pi \\alpha)^2\n",
    "$$\n",
    "\n",
    "\n",
    "Lágmörkum:\n",
    "\n",
    "$$\n",
    "\\frac{\\partial S}{\\partial \\alpha} = 0 \\qquad \\Rightarrow \\qquad \\frac{\\sqrt{2}}{8} \\pi^2 \\alpha = 0 \\qquad \\Rightarrow \\qquad \\boxed{\\alpha = 0}\n",
    "$$\n",
    "\n",
    "\n",
    "Því fæst lágmarksvegalengd fyrir $y = x$."
   ]
  },
  {
   "cell_type": "markdown",
   "metadata": {},
   "source": [
    "# Dæmi 6-04\n",
    "\n",
    "Show that the geodesic on the surface of a right circular cylinder is a segment of a helix."
   ]
  },
  {
   "cell_type": "markdown",
   "metadata": {},
   "source": [
    "## Lausn\n",
    "\n",
    "Þarf að sýna að gangvegur uppfylli að radíus hreyfingarinnar sé fasti og að $z = c \\phi$, þar sem $c$ er fasti.\n",
    "\n",
    "\n",
    "Ritum örsmæðarfærslu á yfirborði sívalnings í sívalningshnitum (jafna F.7):\n",
    "\n",
    "$$\n",
    "dS = \\sqrt{a^2 (d\\phi)^2 + (dz)^2} = \\sqrt{a^2 + \\left( \\frac{dz}{d\\phi}\\right)^2} d\\phi\n",
    "$$\n",
    "\n",
    "\n",
    "Heildarvegalengdin sem hluturinn ferðast milli tveggja punkta $A$ og $B$ á yfirborði sívalnings er því:\n",
    "\n",
    "$$\n",
    "S = \\int_A^B  \\sqrt{a^2 + \\left( \\frac{dz}{d\\phi}\\right)^2} d\\phi \\equiv \\int_A^B f \\left( \\frac{dz}{d\\phi} \\right) d\\phi\n",
    "$$\n",
    "\n",
    "\n",
    "Nú er $f$ óháð $z$ svo við sjáum að $\\frac{\\partial f}{\\partial z} = 0$.\n",
    "\n",
    "Notum jöfnu Euler til að ákvarða hreyfijöfnu fyrir $z$:\n",
    "\n",
    "$$\n",
    "\\frac{\\partial f}{\\partial z} - \\frac{\\partial}{\\partial \\phi} \\frac{\\partial f}{\\partial \\left( \\frac{dz}{d\\phi}\\right)} = 0\n",
    "$$\n",
    "\n",
    "$$\n",
    "\\frac{\\frac{dz}{d\\phi}}{\\sqrt{a^2 + \\left( \\frac{dz}{d\\phi}\\right)^2}} = \\text{ fasti } \\equiv k \\qquad \\Rightarrow \\qquad \\left( \\frac{dz}{d\\phi}\\right)^2 = a^2 k^2 + \\left( \\frac{dz}{d\\phi}\\right)^2 k^2 \n",
    "$$\n",
    "\n",
    "\n",
    "Einangrum $\\frac{dz}{d\\phi}$:\n",
    "\n",
    "$$\n",
    " \\frac{dz}{d\\phi} = \\sqrt{\\frac{k^2}{1-k^2}}a = \\text{ fasti } \\equiv c \\qquad \\Rightarrow \\qquad \\boxed{z = c \\phi}\n",
    "$$"
   ]
  }
 ],
 "metadata": {
  "kernelspec": {
   "display_name": "Python 3.6",
   "language": "python",
   "name": "python_3.6"
  },
  "language_info": {
   "codemirror_mode": {
    "name": "ipython",
    "version": 3
   },
   "file_extension": ".py",
   "mimetype": "text/x-python",
   "name": "python",
   "nbconvert_exporter": "python",
   "pygments_lexer": "ipython3",
   "version": "3.6.5"
  }
 },
 "nbformat": 4,
 "nbformat_minor": 2
}
