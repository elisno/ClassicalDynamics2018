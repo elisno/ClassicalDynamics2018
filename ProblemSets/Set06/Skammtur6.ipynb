{
 "cells": [
  {
   "cell_type": "markdown",
   "metadata": {},
   "source": [
    "# Dæmi 7-20\n",
    "A circular hoop is suspended in a horizontal plane by three strings, each of length $l$, which are attached symmetrically to the hoop and are connected to fixed pointslying in a plane above the hoop. At equilibrium, each string is vertical. Show that the frequency of small rotational oscillations about the vertical through the center of the hoop is the same as that for a simple pendulum of length $l$."
   ]
  },
  {
   "cell_type": "markdown",
   "metadata": {},
   "source": [
    "# Lausn\n",
    "\n",
    "Sýnum fram á að hreyfijafnan fyrir hornhreyfingu kerfisins sé á forminu $\\ddot{\\theta} + \\omega_0^2 \\theta = 0$.\n",
    "\n",
    "Vegna samhverfu kerfisins þurfum við bara að skoða línulega hreyfingu kerfisins í lóðrétta $z$-stefnu.\n",
    "\n",
    "Reiknum hreyfi- og stöðuorku kerfisins:\n",
    "\n",
    "$$\n",
    "T = \\frac{1}{2}m \\dot{z}^2 + \\frac{1}{2}I \\dot{\\theta}^2 =  \\frac{1}{2}m \\frac{(R \\theta)^2}{l^2} \\dot{\\theta}^2 + \\frac{1}{2} m(R \\dot{\\theta})^2 \\qquad \\ \\ , \\ \\ \\qquad U = mgz \\approx -mgl \\left( 1 - \\frac{1}{2} \\left( \\frac{R \\theta}{l}\\right)^2\\right)\n",
    "$$\n",
    "\n",
    "þar sem $z = - l \\sqrt{1 - \\frac{(2R)^2 \\sin^2(\\frac{\\theta}{2})}{l^2}} \\approx -l \\left(1 - \\frac{1}{2}\\left( \\frac{R\\theta}{l}\\right)^2 \\right)$\n",
    "\n",
    "\n",
    "Ákvörðum hreyfjöfnuna frá Lagrange-fallinu\n",
    "\n",
    "$$\n",
    "L = T - U = \\color{red}{\\frac{1}{2}m \\frac{(R \\theta)^2}{l^2} \\dot{\\theta}^2} + \\frac{1}{2} m(R \\dot{\\theta})^2 + mgl \\left( 1 - \\frac{1}{2} \\left( \\frac{R \\theta}{l}\\right)^2\\right)\n",
    "$$\n",
    "\n",
    "Grófa hugmyndin er sú að einungis fyrsta stigs liðir ættu að lifa af þegar við reiknum Euler-Lagrange hreyfijöfnuna.\n",
    "(Viljum skoða lægstu nálgun og sýna að hún lýsir hreintóna sveifli).\n",
    "Við getum því spáð fyrir að liðurinn $\\frac{1}{2}m \\frac{(R \\theta)^2}{l^2} \\dot{\\theta}^2$ í $L$ sé nánast núll. Við hunsum þennan lið í Lagrange-fallinu og hendum út föstum:\n",
    "\n",
    "$$\n",
    "L = \\frac{1}{2} mR^2 \\dot{\\theta}^2 - \\frac{mgR^2}{2l}  \\theta^2\n",
    "$$\n",
    "\n",
    "$$\n",
    "\\frac{\\partial L}{\\partial \\theta} - \\frac{d}{dt}\\frac{\\partial L}{\\partial \\dot{\\theta}} = mR^2 (-\\frac{g}{l}\\theta - \\ddot{\\theta}) = 0 \\qquad \\Rightarrow \\qquad \\boxed{\\ddot{\\theta} + \\omega_0^2 \\theta = 0}\n",
    "$$\n",
    "\n",
    "þar sem $\\omega_0 = \\sqrt{\\frac{g}{l}}$"
   ]
  },
  {
   "cell_type": "markdown",
   "metadata": {},
   "source": [
    "\n",
    "# Dæmi 7-32\n",
    "\n",
    "A particle moves in a spherically symmetric force field with potential energy given by $U(r) = - \\frac{k}{r}$. Calculate the Hamiltonian function in spherical coordinates, and obtain the canonical equations of motion. Sketch the path that a representative point for the system would follow on a surface $H =$ constant in phase space. Begin by showing that the motion must lie in a plane so that the phase space is four dimensional ($r$, $\\theta$, $p_r$, $p_\\theta$), but only the first three are nontrivial). Calculate the projection of the phase path on the $r-p_r$, plane, then take into account the variation with $\\theta$."
   ]
  },
  {
   "cell_type": "markdown",
   "metadata": {},
   "source": [
    "# Lausn\n",
    "\n",
    "Í kúluhnitum er gildir fyrir hraðann $v$ að $v^2 = \\dot{r}^2 + r^2 \\dot{\\theta}^2 + r^2 \\sin^2(\\theta) \\dot{\\phi}^2$.\n",
    "\n",
    "Þá er $L = T - U = \\frac{1}{2}m (\\dot{r}^2 + r^2 \\dot{\\theta}^2 + r^2 \\sin^2(\\theta) \\dot{\\phi}^2) + \\frac{k}{r}$.\n",
    "\n",
    "Tökum Legendre-ummyndunina af $L$ til að finna Hamiltonfallið $H$. Munum að um alskriðþunga gildir $p_i = \\frac{\\partial L}{\\partial \\dot{q_i}}$:\n",
    "\n",
    "$$\n",
    "H = \\sum_i p_i \\dot{q}_i - \\color{blue}{L} = m\\dot{r}^2 + m r^2 \\dot{\\theta}^2 + mr^2 \\sin^2(\\theta) \\dot{\\phi}^2 - \\color{blue}{\\left( \\frac{1}{2}m (\\dot{r}^2 + r^2 \\dot{\\theta}^2 + r^2 \\sin^2(\\theta) \\dot{\\phi}^2) + \\frac{k}{r} \\right)}\n",
    "$$\n",
    "\n",
    "\n",
    "$$\n",
    "H = \\frac{1}{2}m (\\dot{r}^2 + r^2 \\dot{\\theta}^2 + r^2 \\sin^2(\\theta) \\dot{\\phi}^2) - \\frac{k}{r} = \\frac{1}{2m} \\left(p_r^2 + \\frac{p_\\theta^2}{r^2} + \\frac{p_\\phi^2}{r^2 \\sin^2(\\theta)} \\right) - \\frac{k}{r}\n",
    "$$\n",
    "\n",
    "Ákvörðum hreyfijöfnurnar út frá jöfnum (7.160 og 7.161)\n",
    "\n",
    "\\begin{align*}\n",
    "\\dot{q}_i &= \\frac{\\partial H}{\\partial p_i}\\\\\n",
    "-\\dot{p}_i &= \\frac{\\partial H}{\\partial q_i}\n",
    "\\end{align*}\n",
    "\n",
    "Fyrir jafnan gefur:\n",
    "\\begin{align*}\n",
    "\\dot{r} &= \\frac{p_r}{m}\\\\\n",
    "\\dot{\\theta} &= \\frac{p_\\theta}{mr^2}\\\\\n",
    "\\dot{\\phi} &= \\frac{p_\\phi}{m r^2 \\sin^2(\\theta)}\n",
    "\\end{align*}\n",
    "\n",
    "og sú seinni gefur:\n",
    "\\begin{align*}\n",
    "\\dot{p}_r &= \\frac{p_\\theta^2}{mr^3} + \\frac{p_\\phi^2}{mr^3 \\sin^2(\\theta)} - \\frac{k}{r^2}\\\\\n",
    "\\dot{p}_\\theta &= \\frac{p_\\phi^2 \\cot(\\theta)}{m r^2 \\sin^2(\\theta)} \\\\\n",
    "\\dot{p}_\\phi &=  0\n",
    "\\end{align*}\n",
    "\n",
    "Hamiltonfallið er því í raun einungis háð $r, p_r, \\theta$ og $p_\\theta$.\n",
    "Einnig sjáum við að $H = E$ er orka kerfisins. Ef að orkan er fasti, getum við einangrað $p_r$ til að skoða hreyfinguna í $r$-$p_r$ planinu með fasamynd. (Við festum líka $p_\\theta$ til þæginda)"
   ]
  },
  {
   "cell_type": "code",
   "execution_count": 43,
   "metadata": {},
   "outputs": [
    {
     "data": {
      "application/vnd.jupyter.widget-view+json": {
       "model_id": "50851bd60e5c4b55bf10ecb53a7b1660",
       "version_major": 2,
       "version_minor": 0
      },
      "text/plain": [
       "interactive(children=(FloatSlider(value=1.5707963267948966, description='theta', max=3.142592653589793, min=0.…"
      ]
     },
     "metadata": {},
     "output_type": "display_data"
    }
   ],
   "source": [
    "#Gróf teikning af braut agnar í r - p_r plani\n",
    "\n",
    "import numpy as np\n",
    "import matplotlib.pyplot as plt\n",
    "from ipywidgets import interact\n",
    "\n",
    "mE = 2.5   # m*E\n",
    "mk = 1.1   # m*k\n",
    "pphi = 1.0 # Ath: Fastur skriðþungi í phi-stefnu.\n",
    "\n",
    "def pr(t,pt,r):\n",
    "    return np.sqrt(2*mE - (pt**2*np.sin(t)**2 + pphi**2)/(r**2 * np.sin(t)**2) + (2*mk)/(r))\n",
    "\n",
    "\n",
    "@interact(theta=(0.001,np.pi+0.001,np.pi/20),ptheta=(0.0,1.0))\n",
    "def plotting(theta=np.pi/2,ptheta=0.5):\n",
    "    rrange = np.linspace(0.1,5.0,80)\n",
    "    rmomentum = pr(theta,ptheta,rrange)\n",
    "    \n",
    "    plt.plot(rrange,rmomentum,'r-')\n",
    "    plt.xlim(0.0,5.0)\n",
    "    plt.ylim(0.75,2.6)\n",
    "    plt.xlabel(r'$r$')\n",
    "    plt.ylabel(r'$p_r$')\n",
    "    plt.show()"
   ]
  },
  {
   "cell_type": "markdown",
   "metadata": {},
   "source": [
    "\n",
    "# Dæmi 7-24\n",
    "\n",
    " Consider a simple plane pendulum consisting of a mass m attached to a string of length $l$. After the pendulum is set into motion, the length of the string is shortened at a constant rate\n",
    "\n",
    "\\begin{equation*}\n",
    "\\frac{dl}{dt} = -\\alpha = \\text{constant}\n",
    "\\end{equation*}\n",
    "\n",
    "The suspension point remains fixed. Compute the Lagrangian and Hamiltonian functions. Compare the Hamiltonian and the total energy, and discuss the conservation of energy for the system."
   ]
  },
  {
   "cell_type": "markdown",
   "metadata": {},
   "source": [
    "# Lausn\n",
    "\n",
    "Við þurfum bara eitt alhnit ($\\theta$), þótt að lengd bandsins styttist, því $\\dot{l} = -\\alpha$ er fasti ($\\Rightarrow p_r = \\text{fasti} $).\n",
    "\n",
    "Ákvörðum hreyfi- og stöðuorku kerfisins (í pólarhnitum). Notum jöfnu (F.7) í viðauka F til að ákvarða $v^2$.\n",
    "\n",
    "$$\n",
    "T = \\frac{1}{2}m(\\dot{l}^2 + l^2 \\dot{\\theta}^2) = \\frac{1}{2}m (\\alpha^2 + l^2 \\dot{\\theta}^2) \\ \\ , \\ \\ U = - mgl \\cos\\theta\n",
    "$$\n",
    "\n",
    "Lagrangefallið er\n",
    "\n",
    "$$\n",
    "L = T - U = \\frac{1}{2}m (\\alpha^2 + l^2 \\dot{\\theta}^2) + mgl \\cos\\theta\n",
    "$$\n",
    "\n",
    "Hamiltonfallið fæst með Legendre-ummynduninni\n",
    "\n",
    "$$\n",
    "H = p_\\theta \\dot{\\theta} - L = ml^2 \\dot{\\theta}^2 - \\left( \\frac{1}{2}m (\\alpha^2 + l^2 \\dot{\\theta}^2) + mgl \\cos\\theta \\right) = \\frac{1}{2}m (l^2 \\dot{\\theta}^2 - \\alpha^2) - mgl \\cos\\theta \\neq T + U\n",
    "$$\n",
    "\n",
    "Orka kerfisins er\n",
    "$$\n",
    "E = T + U = \\frac{1}{2}m (\\alpha^2 + l^2 \\dot{\\theta}^2) - mgl \\cos\\theta\n",
    "$$\n",
    "og tímaafleiðan af orkunni er\n",
    "$$\n",
    "\\frac{dE}{dt} = m(-l\\dot{\\theta}^2 \\alpha + l^2 \\dot{\\theta}\\ddot{\\theta} + g \\alpha \\cos\\theta + gl \\dot{\\theta} \\sin\\theta ) \\neq 0\n",
    "$$\n",
    "\n",
    "svo orkan varðveitist ekki í kerfinu (því það þarf að framkvæma vinnu á kerfið til þess að stytta bandið)."
   ]
  },
  {
   "cell_type": "markdown",
   "metadata": {},
   "source": [
    "\n",
    "# Dæmi 7-25\n",
    "\n",
    "A particle of mass $m$ moves under the influence of gravity along the helix $z = k\\theta$, $r =$ constant, where $k$ is a constant and $z$ is vertical. Obtain the Hamiltonian equations of motion."
   ]
  },
  {
   "cell_type": "markdown",
   "metadata": {},
   "source": [
    "# Lausn\n",
    "\n",
    "Sívalningshnit eru æskilegust. Nóg er að nota alhnitið $z$ (því $r$ er fasti og $\\dot{\\theta} = \\frac{\\dot{z}}{k}$):\n",
    "\n",
    "$$\n",
    "L = T - U = \\frac{1}{2}m (r^2 \\dot{\\theta}^2 + \\dot{z}^2) - mgz = \\frac{1}{2}m\\dot{z}^2 \\left(\\frac{r^2}{k^2} + 1\\right) - mgz\n",
    "$$\n",
    "\n",
    "Tökum Legendre-ummyndun:\n",
    "\n",
    "$$\n",
    "H = p_z \\dot{z} - L = \\frac{1}{2}m\\dot{z}^2 \\left(\\frac{r^2}{k^2} + 1\\right) + mgz = \\frac{p_z^2}{2m \\left( \\frac{r^2}{k^2} + 1\\right)} + mgz\n",
    "$$\n",
    "\n",
    "Síðan ákvörðum við hreyfijöfnurnar:\n",
    "\n",
    "$$\n",
    "\\dot{p}_z = - \\frac{\\partial H}{\\partial z} \\qquad \\Rightarrow \\qquad \\dot{p}_z = -mg\n",
    "$$\n",
    "\n",
    "\n",
    "\n",
    "$$\n",
    "\\dot{z} = \\frac{\\partial H}{\\partial p_z} \\qquad \\Rightarrow \\qquad \\dot{z} = \\frac{p_z}{m \\left( \\frac{r^2}{k^2} + 1\\right)}\n",
    "$$\n",
    "\n",
    "\n",
    "$$\n",
    "\\ddot{z} = \\frac{\\dot{p}_z}{m \\left( \\frac{r^2}{k^2} + 1\\right)} = \\frac{-g}{ \\left( \\frac{r^2}{k^2} + 1\\right)} \n",
    "$$\n",
    "\n",
    "Hvað myndu Euler-Lagrange jöfnurnar gefa okkur?"
   ]
  },
  {
   "cell_type": "markdown",
   "metadata": {},
   "source": [
    "# Dæmi 7-39\n",
    "\n",
    "An extremely limber rope of uniform mass density, mass $m$ and total length $b$ lies on a table with a length $z$ hanging over the edge of the table. Only gravity acts on the rope. Find Lagrange's equation of motion."
   ]
  },
  {
   "cell_type": "markdown",
   "metadata": {},
   "source": [
    "# Lausn\n",
    "Nóg er að skoða stöðuorku þess hluta bandsins (sem hangir fram af borðinu hverju sinni (massi $m \\frac{z}{b}$, þar sem massamiðja þess hluta er í hæðinni $-\\frac{z}{2}$).\n",
    "\n",
    "$$\n",
    "L = T - U = \\frac{1}{2}m \\dot{z}^2 - \\left(- m \\frac{z}{b} \\cdot \\frac{z}{2} \\right) = \\frac{1}{2}m\\dot{z}^2 + \\frac{mgz^2}{2b}\n",
    "$$\n",
    "\n",
    "Euler-Lagrange jafnan gefur okkur:\n",
    "\n",
    "$$\n",
    "\\frac{\\partial L}{\\partial z} - \\frac{d}{dt} \\frac{\\partial L}{\\partial \\dot{z}} = \\frac{mgz}{b} - m \\ddot{z} = 0 \\qquad \\Rightarrow \\qquad \\ddot{z} = \\frac{mg}{b} z\n",
    "$$"
   ]
  },
  {
   "cell_type": "markdown",
   "metadata": {},
   "source": [
    "# Dæmi 7-34\n",
    "\n",
    "A particle of mass $m$ slides down a smooth circular wedge of mass $M$ as shown in Figure 7-C. The wedge rests on a smooth horizontal table. Find (a) the equation of motion of $m$ and $M$ and (b) the reaction of the wedge on $m$."
   ]
  },
  {
   "cell_type": "markdown",
   "metadata": {},
   "source": [
    "# Lausn\n",
    "\n",
    "Veljum kartesísk hnit fyrir fleyginn en látum alhnit sem lýsa stöðu massans m.v. fleyginn vera pólhnit.\n",
    "\n",
    "Látum $x$ lýsa láréttri stöðu fleygsins og  $\\theta$ vera hornastöðu massans $m$ m.v. fleyginn.\n",
    "Þá er $x_m = x + r \\cos\\theta$ og $y_m = - r \\sin \\theta$.\n",
    "\n",
    "$$\n",
    "L = T - U = \\frac{1}{2}(M\\dot{x}^2 + m(\\dot{x}_m^2 + \\dot{y}_m^2)) - mg y_m=  \\frac{m+M}{2}\\dot{x}^2 + \\frac{m}{r}(\\dot{r}^2 + r^2 \\dot{\\theta}^2  + 2\\dot{x}\\dot{r}\\cos\\theta - 2\\dot{x}r\\dot{\\theta} \\sin\\theta) + mgr\\sin\\theta\n",
    "$$\n",
    "\n",
    "Þetta gildir fyrir hvers kyns fleyga. Nú vitum við að $f(x,\\theta,r) = r - R = 0$.\n",
    "\n",
    "\n",
    "\n",
    "### a)\n",
    "\n",
    "Við notum Euler-Lagrange jöfnuna fyrir til að skoða hreyfijöfnur fyrir $x$ og $\\theta$ (Skorðan $f = 0$ leyfir okkur að hunsa hreyfijöfnu $r$ í bili). Þessar jöfnur eru \n",
    "\n",
    "$$\n",
    "\\ddot{x} = \\frac{mR}{m+M} \\cdot \\frac{\\ddot{\\theta} \\sin\\theta + \\dot{\\theta}^2 \\cos\\theta}{m+M}\n",
    "$$\n",
    "\n",
    "$$\n",
    "\\ddot{\\theta} = \\frac{\\ddot{x} \\sin\\theta + g \\cos\\theta}{R}\n",
    "$$\n",
    "\n",
    "### b) Uppfært síðar...\n",
    "\n",
    "Skoðum Euler-Lagrange jöfnuna fyrir $r$:\n",
    "...\n"
   ]
  }
 ],
 "metadata": {
  "kernelspec": {
   "display_name": "Python 3.6",
   "language": "python",
   "name": "python_3.6"
  },
  "language_info": {
   "codemirror_mode": {
    "name": "ipython",
    "version": 3
   },
   "file_extension": ".py",
   "mimetype": "text/x-python",
   "name": "python",
   "nbconvert_exporter": "python",
   "pygments_lexer": "ipython3",
   "version": "3.6.5"
  },
  "latex_envs": {
   "LaTeX_envs_menu_present": true,
   "autoclose": false,
   "autocomplete": true,
   "bibliofile": "biblio.bib",
   "cite_by": "apalike",
   "current_citInitial": 1,
   "eqLabelWithNumbers": true,
   "eqNumInitial": 1,
   "hotkeys": {
    "equation": "Ctrl-E",
    "itemize": "Ctrl-I"
   },
   "labels_anchors": false,
   "latex_user_defs": false,
   "report_style_numbering": false,
   "user_envs_cfg": false
  }
 },
 "nbformat": 4,
 "nbformat_minor": 2
}
