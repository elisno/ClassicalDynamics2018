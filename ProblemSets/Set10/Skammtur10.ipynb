{
 "cells": [
  {
   "cell_type": "markdown",
   "metadata": {},
   "source": [
    "# Dæmi 11-12 \n",
    "Show that none of the principal moments of inertia can exceed the sum of the other two."
   ]
  },
  {
   "cell_type": "markdown",
   "metadata": {},
   "source": [
    "# Lausn\n",
    "\n",
    "Við sjáum að $I_z \\leq I_x + I_y$, með því að skoða samsvarandi rúmheildi:\n",
    "\n",
    "$$\n",
    "I_x + I_y = \\int \\rho (y^2 + z^2)dV + \\int \\rho (x^2 + z^2)dV = \\int \\rho (x^2 + y^2)dV + 2 \\int \\rho z^2 dV = I_z + 2 \\int \\rho z^2 dV\n",
    "$$\n",
    "Nú er $\\int \\rho z^2 dV > 0$, svo $I_z \\leq I_x + I_y$."
   ]
  },
  {
   "cell_type": "markdown",
   "metadata": {},
   "source": [
    "# Dæmi 11-07\n",
    "\n",
    "A homogeneous disk of radius $R$ and mass $M$ rolls without slipping on a horizontal surface and is attracted to a point a distance $d$ below the plane. If the force of attraction is proportional to the distance from the disk's center of mass to the force center, find the frequency of oscillations around the position of equilibrium."
   ]
  },
  {
   "cell_type": "markdown",
   "metadata": {},
   "source": [
    "# Lausn\n",
    "\n",
    "Hér ákvörðum við hreyfijöfnur Euler-Lagrange og endurrita hana á formi hreintóna sveifils.\n",
    "\n",
    "\n",
    "Krafturinn $F = -kr$ hefur samsvarandi mætti $U = \\frac{kr^2}{2} = \\frac{k (x^2 + y^2 + z^2)}{2}$.\n",
    "Athugum að þar sem diskurinn rúllar á láréttu plani, getum við sagt að $y$ og $z$ séu fastar. \n",
    "\n",
    "Því viljum við bara skoða $T(\\dot{x})$ og $U(x)$.\n",
    "Ákvörðum Lagrange-fall disksins:\n",
    "$$\n",
    "L = T - U = \\frac{1}{2}m\\dot{x}^2 + \\frac{1}{2}I\\dot{\\theta}^2 - \\frac{kx^2}{2}\n",
    "$$\n",
    "\n",
    "Hverfitregða einsleits disks um samhverfuás er $I = \\frac{1}{2}mR^2$ (diskur með massa $m$ og radíus $R$).\n",
    "Svo er $\\dot{x} = R \\dot{\\theta}$ ef að diskurinn rúllar án þess að renna.\n",
    "Því er:\n",
    "$$\n",
    "L = \\frac{3m}{4}\\dot{x}^2 - \\frac{kx^2}{2}\n",
    "$$\n",
    "\n",
    "Hér fáum við eina hreyfijöfnu (út frá alhnitinu $x$):\n",
    "\n",
    "$$\n",
    "kx + \\frac{6m}{4}\\ddot{x} = 0 \\qquad \\Rightarrow \\qquad \\ddot{x} + \\frac{2k}{3m}x = 0\n",
    "$$\n",
    "\n",
    "Þessi jafna lýsir því sveilfi með tíðnina $\\omega = \\sqrt{\\frac{2k}{3m}}$"
   ]
  },
  {
   "cell_type": "markdown",
   "metadata": {},
   "source": [
    "# Dæmi 11-15\n",
    "\n",
    "If a physical pendulum has the same period of oscillation when pivoted about either of two points of unequal distances from the center of mass, show that the length of the simple pendulum with the same period is equal to the sum of separations of the pivot points from the center of mass. Such a physical pendulum, called **Kater's reversible pendulum** , at one time provided the most accurate way (to about $1$ part in $10^5$) to measure the acceleration of gravity. Discuss theadvantages of Kater's pendulum over a simple pendulum for such a purpose."
   ]
  },
  {
   "cell_type": "markdown",
   "metadata": {},
   "source": [
    "# Lausn\n",
    "\n",
    "Við þurfum því að sýna að skrifa megi tíðni sveiflnanna sem $\\omega = \\sqrt{\\frac{g}{l+l'}}$, þar sem $l$ og $l'$ eru þessar mismunandi fjarlægðir hengipunktanna frá massamiðju pendúlsins (vegna þess að einfaldur pendúll með lengdina $l_0 = l + l'$ hefur tíðnina $\\omega = \\sqrt{\\frac{g}{l_0}}$).\n",
    "\n",
    "Finnum hreyfijöfnur Euler-Lagrange (lægstu nálgun):\n",
    "\n",
    "$$\n",
    "L = T-U = \\frac{1}{2}I\\dot{\\theta}^2 - mgl (1 - \\cos\\theta)\n",
    "$$\n",
    "\n",
    "þar sem $I = I_\\text{CM} + ml^2 = mR_0^2 + ml^2$. Athugum að hér er ekki átt við að $R_0$ sé radíus pendúlsins, heldur radíus hringgjarðar með sömu hverfitregðu um ás sem fer í gegnum samhverfuás hennar (og sama massa $m$). Þetta leyfir okkur að þátta út massa pendúlsins síðar.\n",
    "\n",
    "E-L hreyfijafnan fyrir $\\theta$ gefur okkur að $mgl \\sin\\theta + (mR_0^2 + ml^2) \\ddot{\\theta} = 0$ sem lýsir einnig hreintóna sveifli með tíðnina $\\omega$ þ.a.\n",
    "\n",
    "$$\n",
    "\\omega^2 = \\frac{gl}{R_0^2 + l^2} \n",
    "$$\n",
    "\n",
    "Hugmyndin næst er að leita að öðrum snúningsás (í annarri fjarlægð $l'$ frá massamiðjunni) en með sömu tíðni $\\omega$.\n",
    "Þá gildir:\n",
    "$$\n",
    "\\frac{gl}{R_0^2 + l^2} = \\frac{gl'}{R_0^2 + l'^2}\n",
    "$$\n",
    "\n",
    "Gerum þetta samnefnt og einangrum $R_0^2$:\n",
    "$$\n",
    "    R_0^2(l-l')= l^2l' - l'^2l = ll'(l-l') \\qquad \\Rightarrow \\qquad R_0^2 = ll'\n",
    "$$\n",
    "\n",
    "Þá fáum við að\n",
    "\n",
    "$$\n",
    "\\omega = \\sqrt{\\frac{gl}{R_0^2 + l^2}} = \\sqrt{\\frac{g}{l' + l}}\n",
    "$$\n",
    "\n",
    "en þetta samsvarar einföldum pendúl með lengdina $l_0 = l' + l$."
   ]
  },
  {
   "cell_type": "markdown",
   "metadata": {},
   "source": [
    "# Dæmi 11-14\n",
    "\n",
    "Determine the principal axes and principal moments of inertia of a uniformly solid hemisphere of radius b and mass m about its center of mass."
   ]
  },
  {
   "cell_type": "markdown",
   "metadata": {},
   "source": [
    "# Lausn\n",
    "\n",
    "Ákvörðum massamiðju hálfkúlunnar og reiknum fyrst þætti hverfitregðuþinsins um ása sem fara í gegnum massamiðjuna:\n",
    "$$\n",
    "I_{11} = I'_{11} - m \\left( \\frac{3}{8}b \\right)^2\n",
    "$$,\n",
    "\n",
    "þar sem $I'_{11} = \\frac{2}{5}mb^2$ er hverfitregða hálfkúlu um \"láréttan\" ás sem fer í gegnum neðsta punkt samhverfuáss.\n",
    "\n",
    "$$\n",
    "I_{11} = I_{22} = \\frac{83}{320}mb^2  \n",
    "$$\n",
    "\n",
    "Síðan er $I_{33} = I'_{33} = \\frac{2}{5}mb^2$.\n",
    "\n",
    "Ásarnir sem fara í gegnum massamiðjuna eru höfuðásar kerfisins því massadreifing hálfkúlunnar er enn samhverf í $x-$ og $y-$ áttir og verða því öll utan hornalínustök núll.\n",
    "\n",
    "$$\n",
    "\\mathbf{I} = mb^2 \\begin{pmatrix}\n",
    "83/320 & 0  & 0 \\\\ \n",
    "0 & 83/320  & 0 \\\\ \n",
    "0 & 0  & 2/5 \n",
    "\\end{pmatrix}\n",
    "$$"
   ]
  },
  {
   "cell_type": "markdown",
   "metadata": {},
   "source": [
    "# Dæmi 11-11\n",
    "\n",
    "A homogeneous cube, each edge of which has a length $l$, is initially in a position of unstable equilibrium with one edge in contact with a horizontal plane. The cube is then given a small displacement and allowed to fall. Show that the angular velocity of the cube when one face strikes the plane is given by $\\omega^2 = A \\frac{g}{l}(\\sqrt{2}-l)$ where $A = 3/2$ if the edge cannot slide on the plane and where $A = 12/5$ if sliding can occur without friction."
   ]
  },
  {
   "cell_type": "markdown",
   "metadata": {},
   "source": [
    "# Lausn\n",
    "\n",
    "Reiknum orkuvarðveislunaí báðum tilfellum:\n",
    "\n",
    "$$\n",
    "U_0 = U + T \\qquad \\Rightarrow \\qquad mg \\frac{l}{\\sqrt{2}} = mg \\frac{l}{2} + \\frac{1}{2}I\\omega^2 + \\frac{1}{2}m v_\\text{CM}^2   \n",
    "$$\n",
    "\n",
    "Nú er $I = \\frac{1}{6}ml^2 + m \\left( \\frac{l}{\\sqrt{2}} \\right)^2 = \\frac{2}{3}ml^2$ hverfitregðan um snúningspunktinn og $v_\\text{CM}= \\omega \\frac{l}{\\sqrt{2}}$ er línulegur hraði massamiðjunnar.\n",
    "\n",
    "Við endurritum orkujöfnuna og fáum að\n",
    "\n",
    "$$\n",
    "\\omega^2 = \\frac{mgl \\left( \\frac{1}{\\sqrt{2}} - \\frac{1}{2} \\right)}{\\frac{1}{2}ml^2 \\left(\\frac{2}{3} + \\frac{1}{2} \\right)} = \\frac{g \\left( \\sqrt{2} - 1 \\right)}{l \\left(\\frac{2}{3} + \\frac{1}{2} \\right)}  \\qquad \\Rightarrow \\qquad A = \\frac{6}{7} \n",
    "$$\n",
    "\n",
    "\n",
    "Þegar að enginn núningur verkar á teninginn, snýst hann frekar um massamiðju sína sem dettur beint niður.\n",
    "Þá verðum við að taka tímaafleiðuna af stöðu massamiðjunnar til að finna $v_\\text{CM}$:\n",
    "$$\n",
    "y_\\text{CM}  = \\frac{l}{\\sqrt{2}}\\cos\\theta \\quad , \\quad \\dot{y}_\\text{CM} =  - \\frac{l}{\\sqrt{2}} \\sin\\theta \\cdot \\omega\n",
    "$$\n",
    "\n",
    "\n",
    "\n",
    "$$\n",
    "mg \\frac{l}{\\sqrt{2}} = mg \\frac{l}{2} + \\frac{1}{2}I\\omega^2 + \\frac{1}{2}m v_\\text{CM}^2\n",
    "$$\n",
    "\n",
    "þar sem $I = \\frac{1}{6}ml^2$. Við getum einangrað $\\omega^2$\n",
    "\n",
    "$$\n",
    "\\omega^2 = \\frac{mgl \\left( \\frac{1}{\\sqrt{2}} - \\frac{1}{2} \\right)}{\\frac{1}{2}ml^2 \\left(\\frac{1}{6} + \\frac{1}{2}\\sin^2(45^\\circ) \\right)} = \\frac{g \\left( \\sqrt{2} - 1 \\right)}{l \\left(\\frac{1}{6} + \\frac{1}{2} \\cdot \\frac{1}{2} \\right)} \\qquad \\Rightarrow \\qquad A = \\frac{12}{5}\n",
    "$$"
   ]
  },
  {
   "cell_type": "markdown",
   "metadata": {},
   "source": [
    "# Dæmi 11-13\n",
    "A three-particle system consists of masses $m_i$ and coordinates $(x_1, x_2, x_3)$ as follows:\n",
    "$$\n",
    "m_1 = 3m ,\\quad (b, 0, b)\n",
    "$$\n",
    "\n",
    "$$\n",
    "m_2 = 4m ,\\quad (b, b, -b)\n",
    "$$\n",
    "\n",
    "$$\n",
    "m_3 = 2m ,\\quad (-b, b, 0)\n",
    "$$\n",
    "Find the inertia tensor, principal axes, and principal moments of inertia.\n"
   ]
  },
  {
   "cell_type": "markdown",
   "metadata": {},
   "source": [
    "# Lausn\n",
    "\n",
    "Nú er $I_{ii} = \\sum_\\nu m_\\nu (x_{\\nu j}^2 + x_{\\nu k}^2)$ þar sem rómönsku bókstöfunum má öllum umraða.\n",
    "Sama gildir um $I_{ij} = -\\sum_\\nu m_\\nu x_{\\nu i} x_{\\nu j}$.\n",
    "\n",
    "\n",
    "\n",
    "Byrjum á veljum eitt hornalínustak og eitt utan hornalínunnar:\n",
    "\n",
    "$$\n",
    "I_{22} = (3m)(2b^2) + (4m) (2b^2) + (2m)(b^2) = 16 mb^2  \n",
    "$$\n",
    "\n",
    "\n",
    "$$\n",
    "I_{13} = - (3m)(b^2) - (4m)(-b^2) - (2m)(0) = mb^2 \n",
    "$$\n",
    "\n",
    "Það er fljótséð að hvert stak hverfitregðuþinsins er heiltölumargfeldi af $mb^2$. Þegar haldið er áfram með reikningana á hinum stökunum, fæst þinurinn:\n",
    "\n",
    "$$\n",
    "\\mathbf{I} = mb^2\\begin{pmatrix}\n",
    "13 & -2  & 1 \\\\ \n",
    "-2 & 16  & 4 \\\\ \n",
    "1 & 4  & 15 \n",
    "\\end{pmatrix}\n",
    "$$\n",
    "\n",
    "Athugið að þinurinn er samhverfur, svo út frá því þyrfti bara að reikna 6 stök."
   ]
  }
 ],
 "metadata": {
  "kernelspec": {
   "display_name": "Python 3.6",
   "language": "python",
   "name": "python_3.6"
  },
  "language_info": {
   "codemirror_mode": {
    "name": "ipython",
    "version": 3
   },
   "file_extension": ".py",
   "mimetype": "text/x-python",
   "name": "python",
   "nbconvert_exporter": "python",
   "pygments_lexer": "ipython3",
   "version": "3.6.5"
  },
  "latex_envs": {
   "LaTeX_envs_menu_present": true,
   "autoclose": false,
   "autocomplete": true,
   "bibliofile": "biblio.bib",
   "cite_by": "apalike",
   "current_citInitial": 1,
   "eqLabelWithNumbers": true,
   "eqNumInitial": 1,
   "hotkeys": {
    "equation": "Ctrl-E",
    "itemize": "Ctrl-I"
   },
   "labels_anchors": false,
   "latex_user_defs": false,
   "report_style_numbering": false,
   "user_envs_cfg": false
  }
 },
 "nbformat": 4,
 "nbformat_minor": 2
}
