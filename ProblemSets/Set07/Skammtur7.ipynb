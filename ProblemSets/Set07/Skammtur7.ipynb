{
 "cells": [
  {
   "cell_type": "markdown",
   "metadata": {},
   "source": [
    "# Dæmi 8-32\n",
    "Consider a force law of the form $F(r) = -\\frac{k}{r^2} e^{-\\frac{r}{a}}$. Investigate the stability of circular orbits in this force field."
   ]
  },
  {
   "cell_type": "markdown",
   "metadata": {},
   "source": [
    "# Lausn\n",
    "\n",
    "Fyrir alla miðlæga krafta $F(r)$ fæst stöðug hringbraut ef $\\frac{F'(r)}{F(r)} + \\frac{3}{r} > 0$.\n",
    "\n",
    "Nú er\n",
    "\n",
    "$$\n",
    "F'(r) = \\left(\\frac{2k}{r^3}  + \\frac{k}{ar^2}\\right) e^{-\\frac{r}{a}}\n",
    "$$\n",
    "\n",
    "Fyrir stöðugar hringbrautir gildir því\n",
    "\n",
    "$$\n",
    "\\frac{\\frac{2k}{r^3}  + \\frac{k}{ar^2}}{- \\frac{k}{r^2}} + \\frac{3}{r} > 0 \\qquad \\Rightarrow \\qquad \\frac{-2 - \\frac{r}{a} + 3}{r} > 0 \\qquad \\Rightarrow \\qquad r < a\n",
    "$$"
   ]
  },
  {
   "cell_type": "markdown",
   "metadata": {},
   "source": [
    "# Dæmi 8-06\n",
    "Two gravitating masses $m_1$ and $m_2$ $(m_1 + m_2 = M)$ are separated by a distance $r_0$ and released from rest. Show that when the separation is $r(< r_0)$, the speeds are\n",
    "\n",
    "$$\n",
    "v_1 = m_2 \\sqrt{\\frac{2G}{M}\\left( \\frac{1}{r} - \\frac{1}{r_0}\\right)} \\qquad \\ \\ \\  \\qquad v_2 = m_1 \\sqrt{\\frac{2G}{M}\\left( \\frac{1}{r} - \\frac{1}{r_0}\\right)}\n",
    "$$"
   ]
  },
  {
   "cell_type": "markdown",
   "metadata": {},
   "source": [
    "# Lausn\n",
    "\n",
    "\n",
    "Heildarorka kerfisins varðveitist:\n",
    "\n",
    "$$\n",
    "E = -G\\frac{m_1 m_2}{r_0} = \\frac{1}{2}m_1v_1^2 + \\frac{1}{2}m_2v_2^2 - G\\frac{m_1 m_2}{r}\n",
    "$$\n",
    "\n",
    "og skriðþunginn líka:\n",
    "\n",
    "$$\n",
    "p = 0 = m_1 v_1 + m_2 v_2 \\qquad \\Rightarrow \\qquad \\boxed{v_2 = -\\frac{m_1}{m_2}v_1}\n",
    "$$\n",
    "\n",
    "Leysum jöfnuar saman fyrir $v_1$:\n",
    "\n",
    "$$\n",
    "-G\\frac{m_1 m_2}{r_0} = \\frac{1}{2} m_1 \\left( 1 + \\frac{m_1}{m_2} \\right) v_1^2 - G \\frac{m_1 m_2}{r}\n",
    "$$\n",
    "\n",
    "$$\n",
    "v_1^2 = \\frac{2G m_1 m_2}{m_1 \\left( 1 + \\frac{m_1}{m_2} \\right) } \\left( \\frac{1}{r} - \\frac{1}{r_0} \\right) = \\frac{2G  m_2^2}{ \\left( m_2 + m_1 \\right) } \\left( \\frac{1}{r} - \\frac{1}{r_0} \\right) \n",
    "$$\n",
    "\n",
    "$$\n",
    "v_1 = m_2 \\sqrt{\\frac{2G}{M} \\left( \\frac{1}{r} - \\frac{1}{r_0} \\right)} \\ \\ \\text{ og } \\ \\ v_2 = -\\frac{m_1}{m_2}v_1 =  m_1 \\sqrt{\\frac{2G}{M} \\left( \\frac{1}{r} - \\frac{1}{r_0} \\right)}\n",
    "$$"
   ]
  },
  {
   "cell_type": "markdown",
   "metadata": {},
   "source": [
    "# Dæmi 8-20\n",
    "\n",
    "For a particle moving in an elliptical orbit wth semimajor axis $a$ and eccentricity $\\epsilon$, show that\n",
    "\n",
    "$$\n",
    "\\left\\langle \\left(\\frac{a}{r}\\right)^4 \\cos\\theta \\right\\rangle = \\frac{\\epsilon}{(1 - \\epsilon^2)^{5/2}}\n",
    "$$\n",
    "\n",
    "where the angular brackets denote a time average over one complete period."
   ]
  },
  {
   "cell_type": "markdown",
   "metadata": {},
   "source": [
    "# Lausn\n",
    "\n",
    "Ákvörðum fyrst $\\left(\\frac{a}{r}\\right)^4 \\cos\\theta$ sem fall af $\\epsilon$ og $\\theta$.\n",
    "\n",
    "Athugum að $a = \\frac{\\alpha}{1 - \\epsilon^2}$ og að $\\frac{\\alpha}{r} = 1 + \\epsilon \\cos\\theta $.\n",
    "\n",
    "Þá er $\\frac{a (1- \\epsilon^2)}{r} = 1 - \\epsilon \\cos\\theta$. Þessi jafna er notuð nokkrum sinnum við endurskriftir á jöfnum.\n",
    "\n",
    "Að lokum fæst að $\\left(\\frac{a}{r}\\right)^4 \\cos\\theta = \\left( \\frac{1 + \\epsilon \\cos\\theta}{1 - \\epsilon^2} \\right)^4 \\cos \\theta$\n",
    "\n",
    "Næst tökum við meðaltal yfir eina lotu $T$:\n",
    "\n",
    "$$\n",
    "\\left\\langle \\left(\\frac{a}{r}\\right)^4 \\cos\\theta \\right\\rangle = \\frac{1}{T} \\int_0^T \\left( \\frac{1 + \\epsilon \\cos\\theta}{1 - \\epsilon^2} \\right)^4 \\cos \\theta dt\n",
    "$$\n",
    "\n",
    "\n",
    "(Pössum okkur að $\\theta \\neq \\text{ fasti} $)\n",
    "\n",
    "Eftir eina lotu $T$ hefur ögnin farið úr $\\theta = 0$ í $\\theta = 2\\pi$.\n",
    "Notum annað lögmál Keplers til að breyta í heildi yfir $\\theta$:\n",
    "\n",
    "$$\n",
    "\\frac{dA}{dt} = \\frac{r^2}{2} \\frac{d\\theta}{dt} = \\frac{\\pi a b}{T}\n",
    "$$\n",
    "Nú er skammásinn $b = \\frac{\\alpha}{\\sqrt{1-\\epsilon^2}} = a \\sqrt{1- \\epsilon^2}$ og $\\frac{r^2}{2} = \\frac{a^2 (1 - \\epsilon^2)^2}{2(1 + \\epsilon \\cos\\theta)^2}$\n",
    "\n",
    "$$\n",
    "dt = \\frac{T}{\\pi a^2 \\sqrt{1 - \\epsilon^2}} \\frac{a^2 (1-\\epsilon^2)^2}{2 (1 + \\epsilon \\cos\\theta)^2} d\\theta = \\frac{T (1 - \\epsilon^2)^{3/2}}{2\\pi} \\frac{1}{(1+\\epsilon\\cos\\theta)^2} d\\theta\n",
    "$$\n",
    "\n",
    "Þá verður tímaheildið:\n",
    "\n",
    "$$\n",
    "\\left\\langle \\left(\\frac{a}{r}\\right)^4 \\cos\\theta \\right\\rangle   = \\frac{1}{T} \\cdot \\frac{T}{2\\pi} \\frac{(1-\\epsilon^2)^{3/2}}{(1-\\epsilon^2)^4 } \\int_0^{2\\pi} \\cos\\theta \\cdot (1 + \\epsilon \\cos\\theta)^2 d\\theta = \\frac{1}{2\\pi}\\frac{1}{(1-\\epsilon^2)^{5/2}} \\int_0^{2\\pi}\\cos\\theta \\cdot (1 + \\epsilon \\cos\\theta)^2 d\\theta\n",
    "$$\n",
    "\n",
    "Heildisstofninn skiptist í þrjá liði. Tveir þeirra gefa heildið núll og mun einungis \"krossliðurinn\" lifa af, $\\left(2\\epsilon \\int_0^{2\\pi} \\cos^2\\theta d\\theta = 2\\epsilon \\left[ \\frac{\\theta}{2} + \\frac{1}{4}\\sin(2\\theta)\\right]_0^{2\\pi} = 2\\pi \\epsilon \\right)$.\n",
    "\n",
    "Því er \n",
    "\n",
    "$$\n",
    "\\left\\langle \\left(\\frac{a}{r}\\right)^4 \\cos\\theta \\right\\rangle = \\frac{\\epsilon}{(1-\\epsilon^2)^{5/2}}\n",
    "$$"
   ]
  },
  {
   "cell_type": "markdown",
   "metadata": {},
   "source": [
    "# Dæmi 8-10\n",
    "\n",
    "Assume Earth's orbit to be circular and that the Sun's mass suddenly decreases by half. What orbit does Earth then have? Will Earth escape the solar system?"
   ]
  },
  {
   "cell_type": "markdown",
   "metadata": {},
   "source": [
    "# Lausn\n",
    "\n",
    "Skoðum orku jarðarinnar. Hreyfiorkann verður fasti ($T = \\frac{1}{2}mR^2 \\omega^2 =\\frac{GMm}{2R} = - \\frac{U_0}{2}$) sem hægt er að ákvarða út frá miðsóknarkraftinum $m R \\omega^2 = G\\frac{Mm}{R^2}$. Athugum að upprunalega er $E_0 = T + U_0 = \\frac{U_0}{2} < 0$, sem samsvarar lokaðri braut (hringferli í þessu tilfelli)\n",
    "\n",
    "Því þurfum við bara að skoða stöðuorkutapið $\\Delta U = \\frac{U_0}{2} - U_0 = - \\frac{U_0}{2}$\n",
    "\n",
    "Við sjáum þá að við massatapið, verður orka jarðarinnar $E = 0$. Það samsvarar braut sem er fleygbogi. Þá myndi Jörðin yfirgefa sólkerfið (á sem lengstum tíma).\n"
   ]
  },
  {
   "cell_type": "markdown",
   "metadata": {},
   "source": [
    "# Dæmi 8-15\n",
    "\n",
    "A particle of unit mass moves from infinity along a straight line that, if continued, would allow it to pass a distance $b\\sqrt{2}$ from a point $P$. If the particle is attracted toward $P$ with a force varying as $\\frac{k}{r^5}$, and if the angular momentum about the point $P$ is $\\frac{\\sqrt{k}}{b}$, show that the trajectory is given by\n",
    "\n",
    "$$\n",
    "r= b \\coth \\left(\\frac{\\theta}{\\sqrt{2}} \\right)\n",
    "$$"
   ]
  },
  {
   "cell_type": "markdown",
   "metadata": {},
   "source": [
    "# Lausn\n",
    "\n",
    "\n",
    "Við þurfum að meta heildið\n",
    "\n",
    "$$\n",
    "\\theta(r) =  \\int \\frac{\\frac{l}{r^2}}{\\sqrt{2m (E - U(r) - \\frac{l^2}{2mr^2}})} dr\n",
    "$$\n",
    "\n",
    "(ath. að $U(r)\\neq -m \\frac{k}{r}$)\n",
    "\n",
    "\n",
    "Skoðum hverfiþunga- og orkuvarðveislu agnarinnar:\n",
    "\n",
    "$$\n",
    "l = mv \\cdot b\\sqrt{2} = \\frac{\\sqrt{km}}{b} \\qquad \\Rightarrow \\qquad v = \\frac{\\sqrt{\\frac{k}{2m}}}{b^2}\n",
    "$$\n",
    "\n",
    "$$\n",
    "E = \\frac{1}{2}mv^2 = \\frac{k}{4b^4}\n",
    "$$\n",
    "\n",
    "Síðan er $U(r) = -\\int F(r) dr = -\\frac{k}{4r^4}$.\n",
    "\n",
    "þá er \n",
    "\n",
    "$$\n",
    "\\theta(r) =  \\int \\frac{\\frac{l}{r^2}}{\\sqrt{2m (\\frac{k}{4b^4} + \\frac{k}{4r^4} - \\frac{l^2}{2mr^2}})} dr = \\frac{\\sqrt{km}}{b} \\int \\frac{1}{r^2 \\sqrt{\\frac{km}{2b^4} + \\frac{km}{2r^4} - \\frac{km}{b^2 r^2}}}\n",
    "$$\n",
    "\n",
    "þar sem við notuðum $l^2 = \\frac{km}{b^2}$.\n",
    "\n",
    "Eftir að hafa snyrt allt til, verður heildið:\n",
    "\n",
    "$$\n",
    "\\theta(r) = \\pm b \\sqrt{2} \\int \\frac{dr}{r^2 - b^2}\n",
    "$$\n",
    "\n",
    "Hér borgar sig að velja mínusinn þar sem $\\theta$ ætti að vaxa fyrir minnkandi $r$."
   ]
  },
  {
   "cell_type": "markdown",
   "metadata": {},
   "source": [
    "Hér er hægt að nota jöfnu (E.4b) í viðauka B til að meta heildið.\n",
    "\n",
    "Þá fæst:\n",
    "\n",
    "$$\n",
    "\\theta(r) = -b \\sqrt{2}  \\cdot \\left( -\\frac{1}{b}\\coth^{-1}\\left( \\frac{r}{b} \\right) \\right)\n",
    "$$\n"
   ]
  },
  {
   "cell_type": "markdown",
   "metadata": {},
   "source": [
    "Einangrum $r$:\n",
    "\n",
    "$$\n",
    "r(\\theta) =  b \\coth \\left( \\frac{\\theta}{\\sqrt{2}} \\right)\n",
    "$$"
   ]
  },
  {
   "cell_type": "markdown",
   "metadata": {},
   "source": [
    "# Dæmi 8-13\n",
    "\n",
    "Discuss the motion of a particle in a central inverse-square-law force field for a superimposed force whose magnitude is inversely proportional to the cube of the distance from the particle to the force center; that is,\n",
    "\n",
    "$$\n",
    "F =  -\\frac{k}{r^2} -\\frac{\\lambda}{r^3}  \\ \\ \\ \\ \\ k, \\lambda > 0\n",
    "$$\n",
    "\n",
    "Show that the motion is described by a precessing ellipse.\n",
    "Consider the cases $\\lambda < \\frac{l^2}{\\mu}$, $\\lambda = \\frac{l^2}{\\mu}$ and $\\lambda > \\frac{l^2}{\\mu}$."
   ]
  },
  {
   "cell_type": "markdown",
   "metadata": {},
   "source": [
    "# Lausn\n",
    "\n",
    "Þurfum að skoða form hreyfijöfnunnar \n",
    "\n",
    "$$\n",
    "\\frac{d^2u}{d\\theta^2} + u = -\\frac{\\mu}{l^2} \\frac{F(\\frac{1}{u})}{u^2}\n",
    "$$\n",
    "\n",
    "þar sem $u \\equiv \\frac{1}{r}$.\n",
    "\n",
    "\n",
    "$$\n",
    "\\frac{d^2u}{d\\theta^2} + u = - \\frac{\\mu}{l^2 u^2} \\left(-ku^2 - \\lambda u^3 \\right)\n",
    "$$\n",
    "\n",
    "Endurröðum:\n",
    "\n",
    "$$\n",
    "\\frac{d^2u}{d\\theta^2} + \\left(1 - \\frac{\\mu \\lambda}{l^2} \\right) u = \\color{red}{\\frac{\\mu k}{l^2}}\n",
    "$$\n",
    "\n",
    "Komum jöfnunni á óhliðrað form:\n",
    "\n",
    "$$\n",
    "\\frac{d^2u}{d\\theta^2} + \\left(1 - \\frac{\\mu \\lambda}{l^2} \\right) \\left( u - \\frac{\\color{red}{\\frac{\\mu k}{l^2}}}{\\left( 1 - \\frac{\\mu \\lambda}{l^2} \\right) } \\right) = 0\n",
    "$$\n",
    "\n",
    "Þessi óhliðruðu jöfnu má einfalda með skilgreiningu á nýja fallinu $v = \\left( u - \\frac{\\frac{\\mu k}{l^2}}{\\left( 1 - \\frac{\\mu \\lambda}{l^2} \\right) } \\right) = \\left(u - \\frac{\\mu k}{l^2 - \\mu \\lambda} \\right)$\n",
    "\n",
    "$$\n",
    "\\frac{d^2v}{d\\theta^2} + \\left(1 - \\frac{\\mu \\lambda}{l^2} \\right) v = \\frac{d^2v}{d\\theta^2} + \\beta^2 v= 0\n",
    "$$\n",
    "\n",
    "þar sem $\\beta^2 \\equiv \\left(1 - \\frac{\\mu \\lambda}{l^2} \\right)$.\n",
    "\n",
    "Þessi jafna hefur almennara form en jafna hreintóna sveifils því $\\beta^2$ getur verið jákvæð eða neikvæð stærð (jafnvel núll).\n",
    "\n",
    "Fyrir jákvæð gildi fæst kunnuleg lausn fyrir hreintóna sveifil.\n",
    "\n",
    "$$\n",
    "\\frac{1}{r} = A \\cos(\\beta \\theta + \\delta)+ \\frac{\\mu k}{l^2 - \\mu \\lambda } \\qquad \\Rightarrow \\qquad r(\\theta) = \\left( A \\cos(\\beta \\theta)+ \\frac{\\mu k}{l^2 - \\mu \\lambda } \\right)^{-1} \n",
    "$$\n",
    "\n",
    "þar sem við höfum valið $\\delta = 0$ til þæginda fyrir teikningu (annars væri $\\delta$ ákvarðað út frá upphafsskilyrðum)."
   ]
  },
  {
   "cell_type": "markdown",
   "metadata": {},
   "source": [
    "Að sama leiti fæst lausnin\n",
    "\n",
    "$$\n",
    "r(\\theta) = \\left( A \\cosh(\\vert \\beta \\vert \\theta)+ \\frac{\\mu k}{l^2 - \\mu \\lambda } \\right)^{-1} \n",
    "$$\n",
    "\n",
    "fyrir $ \\beta^2 < 0 $."
   ]
  },
  {
   "cell_type": "markdown",
   "metadata": {},
   "source": [
    "Fyrir $\\beta = 0$ er hreyfijafnan á forminu $\\frac{d^2u}{d\\theta^2} = \\frac{\\mu k}{l^2}$ sem gefur lausnina\n",
    "\n",
    "$$\n",
    "r(\\theta) = \\left( \\frac{\\mu k}{2l^2} \\theta^2 + A \\theta + B \\right)^{-1}\n",
    "$$\n",
    "\n",
    "þar sem $A$ og $B$ eru ákvarðaðir út frá upphafsskilyrðum."
   ]
  },
  {
   "cell_type": "code",
   "execution_count": 12,
   "metadata": {},
   "outputs": [],
   "source": [
    "import numpy as np\n",
    "import matplotlib.pyplot as plt\n",
    "from ipywidgets import interact, fixed, FloatSlider"
   ]
  },
  {
   "cell_type": "code",
   "execution_count": 17,
   "metadata": {},
   "outputs": [],
   "source": [
    "def cosorbit(t,b,mklb):\n",
    "    return (np.cos(b*t) + mklb)**(-1)\n"
   ]
  },
  {
   "cell_type": "code",
   "execution_count": 46,
   "metadata": {},
   "outputs": [
    {
     "data": {
      "application/vnd.jupyter.widget-view+json": {
       "model_id": "241d164440e5483b9e6e1b3422d46c8c",
       "version_major": 2,
       "version_minor": 0
      },
      "text/plain": [
       "interactive(children=(FloatSlider(value=0.9, description='beta', max=3.5, min=0.1, step=0.2), FloatSlider(valu…"
      ]
     },
     "metadata": {},
     "output_type": "display_data"
    }
   ],
   "source": [
    "@interact(beta=(0.1,3.5,0.2),MKLB=(0.1,2.1,0.2))\n",
    "def plotcosorbit(beta=0.90,MKLB=1.5):\n",
    "    \n",
    "    #beta = betafunction(mu, Lambda, L)\n",
    "    \n",
    "    theta = np.linspace(0.0,24*np.pi,800)\n",
    "    \n",
    "    r = cosorbit(theta,beta,MKLB)\n",
    "    x = r*np.cos(theta)\n",
    "    y = r*np.sin(theta)\n",
    "    \n",
    "    plt.plot(x,y)\n",
    "    plt.xlim(-2.5,2.5)\n",
    "    plt.ylim(-2.5,2.5)\n",
    "    plt.xlabel(\"x\")\n",
    "    plt.ylabel(\"y\")"
   ]
  },
  {
   "cell_type": "code",
   "execution_count": 32,
   "metadata": {},
   "outputs": [],
   "source": [
    "def coshorbit(t,b,mklb):\n",
    "    return (np.cosh(np.abs(b)*t) + mklb)**(-1)\n"
   ]
  },
  {
   "cell_type": "code",
   "execution_count": 61,
   "metadata": {},
   "outputs": [
    {
     "data": {
      "application/vnd.jupyter.widget-view+json": {
       "model_id": "f9f024295f274b1c89e46c8d53b766c1",
       "version_major": 2,
       "version_minor": 0
      },
      "text/plain": [
       "interactive(children=(FloatSlider(value=-0.07, description='beta', max=-0.01, min=-0.35, step=0.02), FloatSlid…"
      ]
     },
     "metadata": {},
     "output_type": "display_data"
    }
   ],
   "source": [
    "@interact(beta=(-0.35,-0.01,0.02),MKLB=(-2.1,-0.1,0.2))\n",
    "def plotcoshorbit(beta=-0.07,MKLB=-0.7):\n",
    "    \n",
    "    #beta = betafunction(mu, Lambda, L)\n",
    "    \n",
    "    theta = np.linspace(0.0,24*np.pi,800)\n",
    "    \n",
    "    r = coshorbit(theta,beta,MKLB)\n",
    "    x = r*np.cos(theta)\n",
    "    y = r*np.sin(theta)\n",
    "    \n",
    "    plt.plot(x,y)\n",
    "    plt.xlim(-2.5,2.5)\n",
    "    plt.ylim(-2.5,2.5)\n",
    "    plt.xlabel(\"x\")\n",
    "    plt.ylabel(\"y\")"
   ]
  },
  {
   "cell_type": "code",
   "execution_count": 42,
   "metadata": {},
   "outputs": [],
   "source": [
    "def zeroorbit(t,mkl,A,B):\n",
    "    return (mkl*t**2 + A*t + B)**(-1)\n"
   ]
  },
  {
   "cell_type": "code",
   "execution_count": 58,
   "metadata": {},
   "outputs": [
    {
     "data": {
      "application/vnd.jupyter.widget-view+json": {
       "model_id": "4dc6a77aba8540f0955a11bbb14a79a5",
       "version_major": 2,
       "version_minor": 0
      },
      "text/plain": [
       "interactive(children=(FloatSlider(value=0.001, description='MKL', max=0.0021, min=0.0001, step=0.0002), FloatS…"
      ]
     },
     "metadata": {},
     "output_type": "display_data"
    }
   ],
   "source": [
    "@interact(MKL=(0.0001,0.0021,0.0002),A=(0.01,0.21,0.02),B=(0.01,0.21,0.02))\n",
    "def plotzeroorbit(MKL=0.001,A=0.05,B=0.1):\n",
    "    \n",
    "    #beta = betafunction(mu, Lambda, L)\n",
    "    \n",
    "    theta = np.linspace(0.0,24*np.pi,800)\n",
    "    \n",
    "    r = zeroorbit(theta,MKL,A,B)\n",
    "    x = r*np.cos(theta)\n",
    "    y = r*np.sin(theta)\n",
    "    \n",
    "    plt.plot(x,y)\n",
    "    plt.xlim(-2.5,2.5)\n",
    "    plt.ylim(-2.5,2.5)\n",
    "    plt.xlabel(\"x\")\n",
    "    plt.ylabel(\"y\")"
   ]
  }
 ],
 "metadata": {
  "kernelspec": {
   "display_name": "Python 3.6",
   "language": "python",
   "name": "python_3.6"
  },
  "language_info": {
   "codemirror_mode": {
    "name": "ipython",
    "version": 3
   },
   "file_extension": ".py",
   "mimetype": "text/x-python",
   "name": "python",
   "nbconvert_exporter": "python",
   "pygments_lexer": "ipython3",
   "version": "3.6.5"
  },
  "latex_envs": {
   "LaTeX_envs_menu_present": true,
   "autoclose": false,
   "autocomplete": true,
   "bibliofile": "biblio.bib",
   "cite_by": "apalike",
   "current_citInitial": 1,
   "eqLabelWithNumbers": true,
   "eqNumInitial": 1,
   "hotkeys": {
    "equation": "Ctrl-E",
    "itemize": "Ctrl-I"
   },
   "labels_anchors": false,
   "latex_user_defs": false,
   "report_style_numbering": false,
   "user_envs_cfg": false
  }
 },
 "nbformat": 4,
 "nbformat_minor": 2
}
