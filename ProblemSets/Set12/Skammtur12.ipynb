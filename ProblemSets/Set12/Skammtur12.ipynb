{
 "cells": [
  {
   "cell_type": "markdown",
   "metadata": {},
   "source": [
    "# Dæmi 12-26\n",
    "Consider three identical pendula instead of the two shown in Figure 12-5 with a spring of constant 0.20 N/m between the center pendulum and each of the side ones. The mass bobs are 250 g, and the pendula lengths are 47 cm. Find the normal frequencies."
   ]
  },
  {
   "cell_type": "markdown",
   "metadata": {},
   "source": [
    "# Lausn\n",
    "Ákvörðum hreyfi- og stöðuorkur. Ritum þinina $A$ og $M$ sem innihalda aðrar hlutafleiðurnar og ákvörðum þannig eigintíðnirnar $\\omega$  með því að reikna ákveðuna $\\vert A - \\omega^2 M \\vert$.\n",
    "\n",
    "(Engir krossliðir í hreyfiorku)\n",
    "$$\n",
    "M = \\begin{pmatrix}\n",
    " mb^2 & 0  & 0 \\\\ \n",
    "0 &  mb^2  & 0 \\\\ \n",
    "0 & 0  &  mb^2\n",
    "\\end{pmatrix}\n",
    "$$\n",
    "\n",
    "(Engir krossliðir í þyngdarstöðuorkunni $U_g \\simeq \\frac{mgb}{2}(\\theta^2_1 + \\theta^2_2 + \\theta^2_3) $ en þeir eru nokkrir í fjaðurstöðuorkunni: $U_k \\simeq \\frac{kb^2}{2}(\\theta^2_1 + \\theta^2_3 + 2\\theta^2_2 - 2 \\theta_1 \\theta_2 - 2 \\theta_2 \\theta_3) $. Hér höfum við einungis geymt annars stig liði eftir Taylor-nálgun á stöðuorkunni.\n",
    "\n",
    "$$\n",
    "A = \\begin{pmatrix}\n",
    "mgb + kb^2 & -kb^2  & 0 \\\\ \n",
    "-kb^2 & mgb + 2kb^2  & -kb^2 \\\\ \n",
    "0 & -kb^2  & mgb + kb^2\n",
    "\\end{pmatrix} \n",
    "$$\n",
    "\n",
    "Þá er ákveðan:\n",
    "\n",
    "$$\n",
    "\\begin{vmatrix}\n",
    "mgb + kb^2 - mb^2 \\omega^2 & - kb^2  & 0\\\\ \n",
    "-kb^2 & mgb + 2 kb^2 - mb^2\\omega^2 & -kb^2 \\\\ \n",
    "0 & - kb^2 & mgb +  kb^2 - mb^2 \\omega^2 \n",
    "\\end{vmatrix} = 0\n",
    "$$\n",
    "\n",
    "$$\n",
    "(mgb + kb^2 - mb^2 \\omega^2) (mgb + 2 kb^2 - mb^2\\omega^2) (kb^2 - mb^2 \\omega^2) - k^2b^4 (mgb + kb^2 - mb^2 \\omega^2 )  - k^2b^4 (mgb + kb^2 - mb^2 \\omega^2 ) = 0\n",
    "$$\n",
    "\n",
    "$$\n",
    "(mgb + kb^2 - mb^2 \\omega^2) \\left( (mgb + kb^2 - mb^2 \\omega^2) (mgb + 2 kb^2 - mb^2\\omega^2) - 2k^2b^4\\right) = 0\n",
    "$$\n",
    "\n",
    "Ein eigintíðnin er $\\omega_1 = \\sqrt{\\frac{mg + kb}{mb}}$. Hinar tvær fást með því að leysa annars stigs jöfnu fyrir $\\omega^2$:\n",
    "\n",
    "$$\n",
    "\\omega_2 = \\sqrt{\\frac{mg + 3kb}{mb}} \\qquad \\text{  og  } \\qquad \\omega_3 = \\sqrt{\\frac{g}{b}} \n",
    "$$"
   ]
  },
  {
   "cell_type": "markdown",
   "metadata": {},
   "source": [
    "# Dæmi 12-19\n",
    "In the problem of the three coupled pendula, consider the three coupling constants as distinct, so that the potential energy may be written as \n",
    "\n",
    "$$\n",
    "U =\\frac{1}{2}(\\theta_1^2 + \\theta_2^2 + \\theta_3^2 - 2 \\epsilon_{12}\\theta_1 \\theta_2 - 2 \\epsilon_{13}\\theta_1 \\theta_3 -  2 \\epsilon_{23} \\theta_2 \\theta_3)\n",
    "$$ \n",
    "\n",
    "with $\\epsilon_{12}$, $\\epsilon_{13}$, $\\epsilon_{23}$ all different. Show that no degeneracy occurs in such a system. Show also that degeneracy can occur only if $\\epsilon_{12} = \\epsilon_{13} = \\epsilon_{23}$."
   ]
  },
  {
   "cell_type": "markdown",
   "metadata": {},
   "source": [
    "# Lausn\n",
    "\n",
    "Svipuð uppsetning og áðan (gerum ráð fyrir að $m=1$ til að jafna fyrir $U$ gangi upp). Ekkert stak í $A$ er núll (út af  $\\theta_1 \\theta_3$ liðnum). $M$ er ennþá á hornalínuformi:\n",
    "\n",
    "$$\n",
    "\\begin{vmatrix}\n",
    "1 - \\omega^2 & - \\epsilon_{12}  & -\\epsilon_{13}\\\\ \n",
    "-\\epsilon_{12} & 1-\\omega^2 & -\\epsilon_{23} \\\\ \n",
    "-\\epsilon_{13} & -\\epsilon_{23} &  1 - \\omega^2 \n",
    "\\end{vmatrix} = 0\n",
    "$$\n",
    "\n",
    "\n",
    "$$\n",
    "(1-\\omega^2)^3 - (1- \\omega^2)(\\epsilon_{12}^2 + \\epsilon_{13}^2 + \\epsilon_{23}^2) -  2\\epsilon_{12}\\epsilon_{13}\\epsilon_{23}  =0\n",
    "$$\n",
    "\n",
    "Hér þurfum við að skoða aðgreini (e. discriminant) þriðja stigs jöfnunnar fyrir (1- \\omega^2). Við eigum að sýna fram á það að tvöföld rót fæst bara ef öll $\\epsilon$ eru eins, þ.e.a.s. að aðgreinirinn er núll.\n",
    "\n",
    "$$\n",
    "\\Delta = 4 \\cdot (\\epsilon_{12}^2 + \\epsilon_{13}^2 + \\epsilon_{23}^2)^3 + 27 \\cdot (2\\epsilon_{12}\\epsilon_{13}\\epsilon_{23})^2 = 0\n",
    "$$\n",
    "\n",
    "$$\n",
    "(\\epsilon_{12}^2 + \\epsilon_{13}^2 + \\epsilon_{23}^2)^3 = 27 \\epsilon_{12}^2 \\epsilon_{13}^2 \\epsilon_{23}^2\n",
    "$$\n",
    "\n",
    "Eingöngu $\\epsilon_{12} = \\epsilon_{13} = \\epsilon_{23}$ uppfyllir þessa jöfnu.\n",
    "Það þýðir að annars er engin margfeldni í kerfinu."
   ]
  },
  {
   "cell_type": "markdown",
   "metadata": {},
   "source": [
    "# Dæmi 12-13\n",
    "Find the characteristic frequencies of the coupled circuits of Figure 12-C."
   ]
  },
  {
   "cell_type": "code",
   "execution_count": 8,
   "metadata": {},
   "outputs": [
    {
     "data": {
      "image/png": "[encoded data removed]",
      "text/plain": [
       "<IPython.core.display.Image object>"
      ]
     },
     "execution_count": 8,
     "metadata": {},
     "output_type": "execute_result"
    }
   ],
   "source": [
    "from IPython.display import Image\n",
    "Image(\"coupledcircuits.png\")"
   ]
  },
  {
   "cell_type": "markdown",
   "metadata": {},
   "source": [
    "# Lausn\n",
    "Notum lögmál Kirchhoffs á hvora lykkju fyrir sig til að ákvarða spennufallið og diffrum samsvarandi jöfnur m.t.t. tíma:\n",
    "\n",
    "$$\n",
    "L_1 \\ddot{I}_1 + \\frac{\\dot{I}_1}{C_1} + L_{12}(\\ddot{I}_1 - \\ddot{I}_2) = 0\n",
    "$$\n",
    "\n",
    "og \n",
    "$$\n",
    "L_2 \\ddot{I}_2 + \\frac{\\dot{I}_2}{C_2} + L_{12}(\\ddot{I}_2 - \\ddot{I}_1) = 0\n",
    "$$\n",
    "\n",
    "\n",
    "Þetta eru kúplaðar annars stigs jöfnur fyrir $I$. Pörum saman samsvarandi afleiður af $I$. \n",
    "Gerum ráð fyrir að sitthvorum straumnum sé lýst sem riðstraumi $I_1 = A e^{i\\omega t}$ og $I_2 = B e^{i \\omega t}$.\n",
    "Þessu stingum við inn í jöfnuhneppið:\n",
    "\n",
    "$$\n",
    "(\\omega^2 (L_1 + L_{12}) - \\frac{1}{C_1})A - L_{12}\\omega^2 B = 0\n",
    "$$\n",
    "\n",
    "\n",
    "$$\n",
    "(\\omega^2 (L_2 + L_{12}) - \\frac{1}{C_2})B - L_{12}\\omega^2 A = 0\n",
    "$$\n",
    "\n",
    "Við ritum kennijöfnuna sem ákveðuna\n",
    "\n",
    "\n",
    "$$\n",
    "\\begin{vmatrix}\n",
    "\\omega^2 (L_1 + L_{12}) - \\frac{1}{C_1} & - L_{12}\\omega^2\\\\\n",
    "-L_{12}\\omega^2 & \\omega^2 (L_2 + L_{12}) - \\frac{1}{C_2}\n",
    "\\end{vmatrix} = 0\n",
    "$$\n",
    "\n",
    "Þetta verður annars stigs jafna fyrir $\\omega^2$:\n",
    "\n",
    "$$\n",
    "\\omega^2 = \\frac{(L_1 + L_{12})C_1 + (L_2 + L_{12})C_2 \\pm \\sqrt{\\left( (L_1 + L_{12})C_1 + (L_2 + L_{12})C_2 \\right)^2 - 4L_{12}C_1 C_2}}{2 C_1 C_2  \\left( (L_1 + L_{12})(L_2 + L_{12})\\right) - L_{12}^2}\n",
    "$$\n",
    "\n",
    "Hvað er $\\omega^2$ þegar að rýmdirnar og spanstuðlar eru jafnir?"
   ]
  },
  {
   "cell_type": "markdown",
   "metadata": {},
   "source": [
    "# Dæmi 12-12\n",
    "Show that the equations in Problem 12-11 can be put into the same form as Equation 12.1 by solving the second equation above for $\\ddot{I}_2$ and substituting the result into the first equation. Similarly, substitute for $\\ddot{I}_1$ in the second equation. The characteristic frequencies may then be written down immediately in analogy with Equation 12.8.\n",
    "\n"
   ]
  },
  {
   "cell_type": "markdown",
   "metadata": {},
   "source": [
    "# Lausn"
   ]
  },
  {
   "cell_type": "markdown",
   "metadata": {},
   "source": [
    "# Dæmi 12-21\n",
    "\n",
    " Three oscillators of equal mass m are coupled such that the potential energy of the system is given by\n",
    " \n",
    "$$\n",
    "U= \\frac{1}{2} \\left( \\kappa_1(x_1^2 + x_3^2 ) + \\kappa_2 x_2^2 + \\kappa_3 (x_1 x_2 + x_2 x_3) \\right)\n",
    "$$\n",
    "where $\\kappa_3 = \\sqrt{2 \\kappa_1 \\kappa_2}$.\n",
    "Find the eigenfrequencies by solving the secular equation. What is the physical interpretation of the zero-frequency mode?"
   ]
  },
  {
   "cell_type": "markdown",
   "metadata": {},
   "source": [
    "# Lausn"
   ]
  },
  {
   "cell_type": "markdown",
   "metadata": {},
   "source": [
    "# Dæmi 12-7\n",
    "A particle of mass $m$ is attached to a rigid support by a spring with force constant $\\kappa$. At equilibrium, the spring hangs vertically downward. To this mass-spring combination is attached an identical oscillator, the spring of the latter being connected to the mass of the former. Calculate the characteristic frequencies for one-dimensional vertical oscillations, and compare with the frequencies when one or the other of the particles is held fixed while the other oscillates. Describe the normal modes of motion for the system."
   ]
  },
  {
   "cell_type": "markdown",
   "metadata": {},
   "source": [
    "# Lausn"
   ]
  }
 ],
 "metadata": {
  "kernelspec": {
   "display_name": "Python 3.6",
   "language": "python",
   "name": "python_3.6"
  },
  "language_info": {
   "codemirror_mode": {
    "name": "ipython",
    "version": 3
   },
   "file_extension": ".py",
   "mimetype": "text/x-python",
   "name": "python",
   "nbconvert_exporter": "python",
   "pygments_lexer": "ipython3",
   "version": "3.6.5"
  },
  "latex_envs": {
   "LaTeX_envs_menu_present": true,
   "autoclose": false,
   "autocomplete": true,
   "bibliofile": "biblio.bib",
   "cite_by": "apalike",
   "current_citInitial": 1,
   "eqLabelWithNumbers": true,
   "eqNumInitial": 1,
   "hotkeys": {
    "equation": "Ctrl-E",
    "itemize": "Ctrl-I"
   },
   "labels_anchors": false,
   "latex_user_defs": false,
   "report_style_numbering": false,
   "user_envs_cfg": false
  }
 },
 "nbformat": 4,
 "nbformat_minor": 2
}
