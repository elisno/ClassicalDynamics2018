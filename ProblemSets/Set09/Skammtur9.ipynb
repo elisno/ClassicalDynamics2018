{
 "cells": [
  {
   "cell_type": "markdown",
   "metadata": {},
   "source": [
    "# Dæmi 10-12\n",
    "\n",
    "Show that the small angular deviation $\\epsilon$ of a plumb line from the true vertical (i.e.,toward the center of Earth) at a point on Earth's surface at a latitude $\\lambda$ is \n",
    "\n",
    "$$\n",
    "\\epsilon = \\frac{R \\omega^2 \\sin \\lambda \\cos \\lambda}{g_0 - R \\omega^2 \\cos^2 \\lambda}\n",
    "$$\n",
    "where $R$ is the radius of Earth. What is the value (in seconds of arc) of themaximum deviation? Note that the entire denominator in the answer is actually the effective $g$, and $g_0$ denotes the pure gravitational component."
   ]
  },
  {
   "cell_type": "markdown",
   "metadata": {},
   "source": [
    "# Lausn\n",
    "\n",
    "Hér notum við jöfnu 10.32 í bók:\n",
    "$$\n",
    "\\vec{F}_\\text{eff} = \\vec{S} + m \\vec{g}_0 - m \\vec{\\omega} \\times \\left[ \\vec{\\omega} \\times \\vec{r} \\right] - 2m \\vec{\\omega} \\times \\vec{v}_r\n",
    "$$\n",
    "\n",
    "Skv. höfundi bókar myndum er hægt að túlka 2. og 3. lið jöfnunnar sem \"virkann\" þyngdarkraft $m\\vec{g}$. Lóðlínan myndi vera samsíða $\\vec{g}$, en lóðrétt lína ætti að vera samsíða $\\vec{g}_0$.\n",
    "\n",
    "Hér verka engir ytri kraftar ($\\vec{S} = 0$) og lóðlínan á að hvíla í fastri hæð ($\\vec{v}_r = 0$).\n",
    "\n",
    "Við getum valið kartesískt hnitakerfi þ.a. $\\vec{r} = R \\hat{k}$ og þar með $\\vec{\\omega} = \\omega (- \\cos\\lambda \\hat{i} + \\sin\\lambda \\hat{k})$ og $\\vec{g}_0 = - g_0 \\hat{k}$ (þ.e.a.s $x$-ás er samsíða þeim lengdarbaugi sem lóðlínan er á, $y$-ás er samsíða breiddarbaugnum og $z$-ás er í lóðrétta stefnu (yfir jörðu)).\n",
    "\n",
    "Eftir að hafa reiknað öll krossfeldin í jöfnu (10.32) fæst að\n",
    "\n",
    "$$\n",
    "\\vec{F}_\\text{eff} = - mg_0 \\hat{k} + m\\omega^2R \\left( \\sin\\lambda \\cos \\lambda \\hat{i} + \\cos^2 \\lambda \\hat{k} \\right)\n",
    "$$\n",
    "\n",
    "Síðan ákvörðum við frávikið $\\epsilon$ út frá\n",
    "\n",
    "$$\n",
    "\\tan \\epsilon =  \\frac{\\vert F_{\\text{eff},x}  \\vert}{\\vert F_{\\text{eff},z} \\vert} = \\frac{\\vert \\omega^2 R \\sin\\lambda \\cos\\lambda \\vert}{\\vert - g_0 + \\omega^2 R \\cos^2 \\lambda \\vert}  = \\boxed{\\frac{\\omega^2 R \\sin\\lambda \\cos\\lambda}{g_0 - \\omega^2 R \\cos^2 \\lambda} \\simeq \\epsilon}\n",
    "$$\n",
    "\n",
    "þar sem $\\tan \\epsilon = \\epsilon + \\frac{\\epsilon^3}{3} + \\dots$"
   ]
  },
  {
   "cell_type": "markdown",
   "metadata": {},
   "source": [
    "# Dæmi 10-03\n",
    "\n",
    "In Example 10.2, assume that the coefficient of static friction between the hockeypuck and a horizontal rough surface (on the merry-go-round) is $\\mu_s$. How far away from the center of the merry-go-round can the hockey puck be placed without sliding?"
   ]
  },
  {
   "cell_type": "markdown",
   "metadata": {},
   "source": [
    "# Lausn\n",
    "\n",
    "Notum nú jöfnu (10.25) (sleppi vigurmerkingum):\n",
    "$$\n",
    "F_\\text{eff}  = F - m\\ddot{R}_f  - m \\dot{\\omega} \\times r - m \\omega \\times (\\omega \\times r) - 2 m \\omega \\times v_r\n",
    "$$\n",
    "\n",
    "\n",
    "Hér verkar núningur á pökkinn $F = \\mu m g$\n",
    "Nú er  $\\ddot{R} = 0$, $\\dot{\\omega} = 0$ og $v_r = 0$ því miðja hringekjunnar er kyrr, hún snýst á föstum hraða og pökkurinn á einnig að vera kyrrstæður.\n",
    "\n",
    "$$\n",
    "F_\\text{eff}  = \\mu m g - m \\omega^2r = 0 \\qquad \\Rightarrow \\qquad r = \\frac{\\mu g}{\\omega^2}\n",
    "$$"
   ]
  },
  {
   "cell_type": "markdown",
   "metadata": {},
   "source": [
    "# Dæmi 10-05\n",
    "\n",
    "Perform a numerical calculation using the parameters in Example 10.2 and Figure 10-4e, but find the initial velocity for which the path of motion passes back over the initial position in the rotating system. At what time does the puck exit the merry-go-round?"
   ]
  },
  {
   "cell_type": "markdown",
   "metadata": {},
   "source": [
    "# Lausn\n",
    "\n",
    "Hér notum við sömu jöfnu og áðan, nema að pökkurinn verður fyrir \"miðflóttakrafti\" og Coriolis-kraftinum.\n",
    "\n",
    "$$\n",
    "\\vec{a} = - \\vec{\\omega} \\times (\\vec{\\omega} \\times \\vec{r}) - 2 \\vec{\\omega} \\times  \\vec{v}_r = \\omega^2 r \\hat{r} - 2\\omega(\\hat{k} \\times \\hat{v}_r)\n",
    "$$\n",
    "\n",
    "Hér ættum við að nota kartesísk hnit:\n",
    "\n",
    "$$\n",
    "\\vec{a} = \\omega^2 (x,y,0) - 2 \\omega (\\dot{x},-\\dot{y},0)\n",
    "$$\n",
    "\n",
    "Þetta er hægt að ummynda í 4-vítt, fyrsta stigs diffurjöfnuhneppi (eins og gert var í dæmi 4-4 í skammti 3).\n",
    "\n",
    "Þá fæst\n",
    "\n",
    "$$\n",
    "\\dot{y}_1 = \\dot{x} \\equiv y_2 \\\\\n",
    "\\dot{y}_2 = \\ddot{x} = \\omega^2 y_1 + 2\\omega y_4\\\\\n",
    "\\dot{y}_3 = \\dot{y} \\equiv y_4\\\\\n",
    "\\dot{y}_4 = \\ddot{y} = \\omega^2 y_3 - 2 \\omega y_2\n",
    "$$\n",
    "\n",
    "Við getum látið $\\omega = 1$ rad/s.\n",
    "\n",
    "Upphafsskilyrðin eru að $y_1 = -0.5 R$, $y_2 = \\frac{v_0}{\\sqrt{2}}$, $y_3 = 0$ og $y_4 = \\frac{v_0}{\\sqrt{2}}$ þar sem $R = 1$ m er radíus hringekjunnar."
   ]
  },
  {
   "cell_type": "markdown",
   "metadata": {},
   "source": [
    "# Dæmi 10-15\n",
    "\n",
    "Consider a particle moving in a potential $U(r)$. Rewrite the Lagrangian in terms of a coordinate system in uniform rotation with respect to an inertial frame. Calculate the Hamiltonian and determine whether $H = E$. Is $H$ a constant of the motion? If $E$ is not a constant of motion, why isn't it? The expression for the Hamiltonian thus obtained is the standard formula $1/2 mv^2 + U$ plus an additional term. Show that the extra term is the centrifugal potential energy. Use the Lagrangian you obtained to reproduce the equations of motion given in Equation 10.25 (without the second and third terms)."
   ]
  },
  {
   "cell_type": "markdown",
   "metadata": {},
   "source": [
    "# Lausn\n",
    "\n",
    "Notum jöfnu 10.17 sem lýsir hraðanum í föstu viðmiðunarkerfi\n",
    "\n",
    "$$\n",
    "\\vec{v}_f = \\vec{r} + \\vec{\\omega} \\times \\vec{r} \n",
    "$$\n",
    "\n",
    "$$\n",
    "L = T - U = \\frac{1}{2}m v_f^2 - U(r) = \\frac{1}{2}m \\left(v_r^2 + 2 \\vec{v}_r \\cdot (\\vec{\\omega} \\times \\vec{r}) + (\\vec{\\omega} \\times \\vec{r})^2 \\right) - U(r)\n",
    "$$\n",
    "\n",
    "\n",
    "Skrifum Hamiltonfallið:\n",
    "\n",
    "$$\n",
    "H = v_r p_r - L = \\vec{v}_r \\cdot (m \\vec{v}_r + m (\\vec{\\omega} \\times \\vec{r})) - L = \\boxed{\\frac{1}{2}m v_r^2 - \\frac{1}{2}m (\\vec{\\omega} \\times \\vec{r})^2 + U(r)} \\neq E\n",
    "$$\n",
    "\n",
    "$H$ er hreyfifasti þar sem $\\frac{\\partial H}{\\partial t} = 0$.\n",
    "\n",
    "\n",
    "Uppfylla þarf tvö skilyrði til þess að $H = E$.\n",
    "Í fyrsta lagi þarf ummyndun hnitanna að vera tímaóháð og í öðru lagi þarf stöðuorkan að vera óháð hraða.\n",
    "Þannig séð uppfyllum við seinna skilyrðið, en ekki er hægt að segja það um fyrra skilyrðið (hraðinn í fasta kerfinu er tímaháður).\n",
    "\n",
    "Annar liðurinn í Hamiltonfallinu samsvarar \"stöðuorku\" fyrir miðflóttakraftinn:\n",
    "\n",
    "$$\n",
    "U_c = - \\frac{1}{2}m (\\vec{\\omega} \\times \\vec{r})^2 \\qquad \\Rightarrow \\qquad - \\nabla U_c =  \\frac{m}{2} \\nabla (\\omega^2 r^2 - (\\vec{\\omega} \\cdot \\vec{r})^2) = \\dots = -m(\\vec{\\omega} \\times (\\vec{\\omega} \\times \\vec{r}))\n",
    "$$\n",
    "\n",
    "\n",
    "Við ákvörðum hreyfijöfnur Euler-Lagrange:\n",
    "\n",
    "$$\n",
    "\\color{red}{- m (\\vec{\\omega} \\times \\vec{v}_r)) - m \\vec{\\omega} \\times (\\vec{\\omega} \\times \\vec{r}) - \\nabla U(r)} - \\color{blue}{m \\vec{a}_r + m \\vec{\\omega} \\times (\\vec{\\omega} \\times \\vec{v}_r)} = 0\n",
    "$$\n",
    "\n",
    "Þetta gefur hreyfijöfnuna $m \\vec{a}_r = -\\nabla U  - m \\vec{\\omega} \\times (\\vec{\\omega} \\times \\vec{r}) - 2m(\\vec{\\omega} \\times \\vec{v}_r)$ sem samsvarar jöfnu 10.25 (án liða sem lýsa línulegri hröðun og hornhröðun viðmiðunarkerfisins)."
   ]
  },
  {
   "cell_type": "markdown",
   "metadata": {},
   "source": [
    "# Dæmi 10-22\n",
    "\n",
    "Shot towers were popular in the eighteenth and nineteenth centuries for dropping melted lead down tall towers to form spheres for bullets. The lead solidified while falling and often landed in water to cool the lead bullets. Many such shot towers were built in New York State. Assume a shot tower was constructed at latitude 42°N, and the lead fell a distance of 27 m. In what direction and how far did the lead bullets land from the direct vertical?"
   ]
  },
  {
   "cell_type": "markdown",
   "metadata": {},
   "source": [
    "# Lausn\n",
    "\n",
    "Falltíminn er $t = \\sqrt{\\frac{2h}{g}}$ en í fallinu fær kúlan hröðun Coriolis-hröðunina $a_c = 2 \\vec{v}\\times \\vec{\\omega} = 2gt \\omega \\cos\\lambda$. Séð frá jörðu myndi kúlan hliðrast til vesturs.\n",
    "\n",
    "Heildum tvisvar og fáum að $x_c = \\omega \\cos \\lambda \\frac{gt^3}{3}$.\n",
    "\n",
    "Stingum inn fyrir $t$:\n",
    "\n",
    "$$\n",
    "x_c = \\omega \\cos \\lambda \\cdot \\frac{\\sqrt{\\frac{8h^3}{g}}}{3}\n",
    "$$"
   ]
  },
  {
   "cell_type": "code",
   "execution_count": 3,
   "metadata": {},
   "outputs": [
    {
     "name": "stdout",
     "output_type": "stream",
     "text": [
      "x_c = 0.0023 m\n"
     ]
    }
   ],
   "source": [
    "import numpy as np\n",
    "omega = 7.3E-5\n",
    "l = 42.0*np.pi/180\n",
    "h = 27.0\n",
    "g = 9.81\n",
    "\n",
    "xc = omega*np.cos(l)*np.sqrt(8*h**3/g)/3\n",
    "\n",
    "print(\"x_c =\",round(xc,4),\"m\")"
   ]
  },
  {
   "cell_type": "markdown",
   "metadata": {},
   "source": [
    "# Dæmi 10-18\n",
    "\n",
    "A British warship fires a projectile due south near the Falkland Islands during World War I at latitude 50°S. If the shells are fired at 37° elevation with a speed of 800 m/s, by how much do the shells miss their target and in what direction? Ignore air resistance."
   ]
  },
  {
   "cell_type": "markdown",
   "metadata": {},
   "source": [
    "# Lausn\n",
    "\n",
    "Reiknum Coriolis-hröðunina og heildum tvisvar:\n",
    "\n",
    "$$\n",
    "\\vec{a}_c = 2\\vec{v} \\times \\vec{\\omega} = 2 (v_0 \\cos\\alpha \\hat{i} + (v_0 \\sin\\alpha - gt)\\hat{j}) \\times (-\\omega \\cos \\lambda \\hat{i} - \\omega \\sin\\lambda \\hat{j})\n",
    "$$\n",
    "\n",
    "$$\n",
    "\\vec{a}_c = (-2v_0\\omega\\cos\\alpha\\sin\\lambda + 2(v_0\\sin\\alpha - gt)\\omega \\cos\\lambda) \\hat{k}\n",
    "$$\n",
    "\n",
    "þar sem $\\hat{k}$ er í vesturstefnu.\n",
    "\n",
    "$$\n",
    "z_c  = v_0 \\omega t^2 (\\sin\\alpha\\cos\\lambda - \\cos\\alpha\\sin\\lambda) - \\omega  \\cos\\lambda \\frac{gt^3}{3}\n",
    "$$\n",
    "\n",
    "þar sem $t = \\frac{2v_0 \\sin\\alpha}{g}$."
   ]
  },
  {
   "cell_type": "code",
   "execution_count": 7,
   "metadata": {},
   "outputs": [
    {
     "name": "stdout",
     "output_type": "stream",
     "text": [
      "z_c = -272.0 m til vesturs =  272.0 m til austurs\n"
     ]
    }
   ],
   "source": [
    "#import numpy as np\n",
    "\n",
    "v0 = 800.0\n",
    "omega = 7.3E-5\n",
    "l = 50.0*np.pi/180\n",
    "a = 37.0*np.pi/180\n",
    "g = 9.81\n",
    "t = 2*v0*np.sin(a)/g\n",
    "\n",
    "zc = v0*omega*t**2*(np.sin(a)*np.cos(l) - np.cos(a)*np.sin(l)) - omega*np.cos(l)*g*t**3/3\n",
    "\n",
    "print(\"z_c =\",round(zc,0),\"m til vesturs = \",-round(zc,0),\"m til austurs\")"
   ]
  },
  {
   "cell_type": "code",
   "execution_count": null,
   "metadata": {},
   "outputs": [],
   "source": []
  }
 ],
 "metadata": {
  "kernelspec": {
   "display_name": "Python 3.6",
   "language": "python",
   "name": "python_3.6"
  },
  "language_info": {
   "codemirror_mode": {
    "name": "ipython",
    "version": 3
   },
   "file_extension": ".py",
   "mimetype": "text/x-python",
   "name": "python",
   "nbconvert_exporter": "python",
   "pygments_lexer": "ipython3",
   "version": "3.6.5"
  },
  "latex_envs": {
   "LaTeX_envs_menu_present": true,
   "autoclose": false,
   "autocomplete": true,
   "bibliofile": "biblio.bib",
   "cite_by": "apalike",
   "current_citInitial": 1,
   "eqLabelWithNumbers": true,
   "eqNumInitial": 1,
   "hotkeys": {
    "equation": "Ctrl-E",
    "itemize": "Ctrl-I"
   },
   "labels_anchors": false,
   "latex_user_defs": false,
   "report_style_numbering": false,
   "user_envs_cfg": false
  }
 },
 "nbformat": 4,
 "nbformat_minor": 2
}
